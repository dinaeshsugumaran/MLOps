{
 "cells": [
  {
   "cell_type": "code",
   "execution_count": 5,
   "metadata": {},
   "outputs": [],
   "source": [
    "import statsmodels.api as sm\n",
    "import matplotlib.pyplot as plt\n",
    "import pandas as pd\n"
   ]
  },
  {
   "cell_type": "code",
   "execution_count": 6,
   "metadata": {},
   "outputs": [],
   "source": [
    "power_plant_data = pd.read_excel('Power_plant.xlsx')"
   ]
  },
  {
   "cell_type": "code",
   "execution_count": 7,
   "metadata": {},
   "outputs": [],
   "source": [
    "power_plant_data.rename(columns={'AT':'Temperature','V':'Exhaust_Vacuum','AP':'Ambient_Pressure','RH':'Relative Humidity','PE':'Energy Output'},inplace=True)"
   ]
  },
  {
   "cell_type": "code",
   "execution_count": 9,
   "metadata": {},
   "outputs": [],
   "source": [
    "X = power_plant_data.iloc[:,:-1]\n",
    "y = power_plant_data.iloc[:,-1]"
   ]
  },
  {
   "cell_type": "code",
   "execution_count": 11,
   "metadata": {},
   "outputs": [],
   "source": [
    "# Add a constant to the independent variables for the intercept\n",
    "X = sm.add_constant(X)"
   ]
  },
  {
   "cell_type": "code",
   "execution_count": 12,
   "metadata": {},
   "outputs": [
    {
     "data": {
      "text/html": [
       "<div>\n",
       "<style scoped>\n",
       "    .dataframe tbody tr th:only-of-type {\n",
       "        vertical-align: middle;\n",
       "    }\n",
       "\n",
       "    .dataframe tbody tr th {\n",
       "        vertical-align: top;\n",
       "    }\n",
       "\n",
       "    .dataframe thead th {\n",
       "        text-align: right;\n",
       "    }\n",
       "</style>\n",
       "<table border=\"1\" class=\"dataframe\">\n",
       "  <thead>\n",
       "    <tr style=\"text-align: right;\">\n",
       "      <th></th>\n",
       "      <th>const</th>\n",
       "      <th>Temperature</th>\n",
       "      <th>Exhaust_Vacuum</th>\n",
       "      <th>Ambient_Pressure</th>\n",
       "      <th>Relative Humidity</th>\n",
       "    </tr>\n",
       "  </thead>\n",
       "  <tbody>\n",
       "    <tr>\n",
       "      <th>0</th>\n",
       "      <td>1.0</td>\n",
       "      <td>14.96</td>\n",
       "      <td>41.76</td>\n",
       "      <td>1024.07</td>\n",
       "      <td>73.17</td>\n",
       "    </tr>\n",
       "    <tr>\n",
       "      <th>1</th>\n",
       "      <td>1.0</td>\n",
       "      <td>25.18</td>\n",
       "      <td>62.96</td>\n",
       "      <td>1020.04</td>\n",
       "      <td>59.08</td>\n",
       "    </tr>\n",
       "    <tr>\n",
       "      <th>2</th>\n",
       "      <td>1.0</td>\n",
       "      <td>5.11</td>\n",
       "      <td>39.40</td>\n",
       "      <td>1012.16</td>\n",
       "      <td>92.14</td>\n",
       "    </tr>\n",
       "    <tr>\n",
       "      <th>3</th>\n",
       "      <td>1.0</td>\n",
       "      <td>20.86</td>\n",
       "      <td>57.32</td>\n",
       "      <td>1010.24</td>\n",
       "      <td>76.64</td>\n",
       "    </tr>\n",
       "    <tr>\n",
       "      <th>4</th>\n",
       "      <td>1.0</td>\n",
       "      <td>10.82</td>\n",
       "      <td>37.50</td>\n",
       "      <td>1009.23</td>\n",
       "      <td>96.62</td>\n",
       "    </tr>\n",
       "  </tbody>\n",
       "</table>\n",
       "</div>"
      ],
      "text/plain": [
       "   const  Temperature  Exhaust_Vacuum  Ambient_Pressure  Relative Humidity\n",
       "0    1.0        14.96           41.76           1024.07              73.17\n",
       "1    1.0        25.18           62.96           1020.04              59.08\n",
       "2    1.0         5.11           39.40           1012.16              92.14\n",
       "3    1.0        20.86           57.32           1010.24              76.64\n",
       "4    1.0        10.82           37.50           1009.23              96.62"
      ]
     },
     "execution_count": 12,
     "metadata": {},
     "output_type": "execute_result"
    }
   ],
   "source": [
    "X.head()"
   ]
  },
  {
   "cell_type": "code",
   "execution_count": 13,
   "metadata": {},
   "outputs": [],
   "source": [
    "model = sm.OLS(y, X)"
   ]
  },
  {
   "cell_type": "code",
   "execution_count": 14,
   "metadata": {},
   "outputs": [],
   "source": [
    "results = model.fit()"
   ]
  },
  {
   "cell_type": "code",
   "execution_count": 15,
   "metadata": {},
   "outputs": [
    {
     "data": {
      "text/html": [
       "<table class=\"simpletable\">\n",
       "<caption>OLS Regression Results</caption>\n",
       "<tr>\n",
       "  <th>Dep. Variable:</th>      <td>Energy Output</td>  <th>  R-squared:         </th> <td>   0.929</td> \n",
       "</tr>\n",
       "<tr>\n",
       "  <th>Model:</th>                   <td>OLS</td>       <th>  Adj. R-squared:    </th> <td>   0.929</td> \n",
       "</tr>\n",
       "<tr>\n",
       "  <th>Method:</th>             <td>Least Squares</td>  <th>  F-statistic:       </th> <td>3.114e+04</td>\n",
       "</tr>\n",
       "<tr>\n",
       "  <th>Date:</th>             <td>Thu, 08 Aug 2024</td> <th>  Prob (F-statistic):</th>  <td>  0.00</td>  \n",
       "</tr>\n",
       "<tr>\n",
       "  <th>Time:</th>                 <td>17:16:39</td>     <th>  Log-Likelihood:    </th> <td> -28088.</td> \n",
       "</tr>\n",
       "<tr>\n",
       "  <th>No. Observations:</th>      <td>  9568</td>      <th>  AIC:               </th> <td>5.619e+04</td>\n",
       "</tr>\n",
       "<tr>\n",
       "  <th>Df Residuals:</th>          <td>  9563</td>      <th>  BIC:               </th> <td>5.622e+04</td>\n",
       "</tr>\n",
       "<tr>\n",
       "  <th>Df Model:</th>              <td>     4</td>      <th>                     </th>     <td> </td>    \n",
       "</tr>\n",
       "<tr>\n",
       "  <th>Covariance Type:</th>      <td>nonrobust</td>    <th>                     </th>     <td> </td>    \n",
       "</tr>\n",
       "</table>\n",
       "<table class=\"simpletable\">\n",
       "<tr>\n",
       "          <td></td>             <th>coef</th>     <th>std err</th>      <th>t</th>      <th>P>|t|</th>  <th>[0.025</th>    <th>0.975]</th>  \n",
       "</tr>\n",
       "<tr>\n",
       "  <th>const</th>             <td>  454.6093</td> <td>    9.749</td> <td>   46.634</td> <td> 0.000</td> <td>  435.500</td> <td>  473.718</td>\n",
       "</tr>\n",
       "<tr>\n",
       "  <th>Temperature</th>       <td>   -1.9775</td> <td>    0.015</td> <td> -129.342</td> <td> 0.000</td> <td>   -2.007</td> <td>   -1.948</td>\n",
       "</tr>\n",
       "<tr>\n",
       "  <th>Exhaust_Vacuum</th>    <td>   -0.2339</td> <td>    0.007</td> <td>  -32.122</td> <td> 0.000</td> <td>   -0.248</td> <td>   -0.220</td>\n",
       "</tr>\n",
       "<tr>\n",
       "  <th>Ambient_Pressure</th>  <td>    0.0621</td> <td>    0.009</td> <td>    6.564</td> <td> 0.000</td> <td>    0.044</td> <td>    0.081</td>\n",
       "</tr>\n",
       "<tr>\n",
       "  <th>Relative Humidity</th> <td>   -0.1581</td> <td>    0.004</td> <td>  -37.918</td> <td> 0.000</td> <td>   -0.166</td> <td>   -0.150</td>\n",
       "</tr>\n",
       "</table>\n",
       "<table class=\"simpletable\">\n",
       "<tr>\n",
       "  <th>Omnibus:</th>       <td>892.002</td> <th>  Durbin-Watson:     </th> <td>   2.033</td>\n",
       "</tr>\n",
       "<tr>\n",
       "  <th>Prob(Omnibus):</th> <td> 0.000</td>  <th>  Jarque-Bera (JB):  </th> <td>4086.777</td>\n",
       "</tr>\n",
       "<tr>\n",
       "  <th>Skew:</th>          <td>-0.352</td>  <th>  Prob(JB):          </th> <td>    0.00</td>\n",
       "</tr>\n",
       "<tr>\n",
       "  <th>Kurtosis:</th>      <td> 6.123</td>  <th>  Cond. No.          </th> <td>2.13e+05</td>\n",
       "</tr>\n",
       "</table><br/><br/>Notes:<br/>[1] Standard Errors assume that the covariance matrix of the errors is correctly specified.<br/>[2] The condition number is large, 2.13e+05. This might indicate that there are<br/>strong multicollinearity or other numerical problems."
      ],
      "text/latex": [
       "\\begin{center}\n",
       "\\begin{tabular}{lclc}\n",
       "\\toprule\n",
       "\\textbf{Dep. Variable:}    &  Energy Output   & \\textbf{  R-squared:         } &     0.929   \\\\\n",
       "\\textbf{Model:}            &       OLS        & \\textbf{  Adj. R-squared:    } &     0.929   \\\\\n",
       "\\textbf{Method:}           &  Least Squares   & \\textbf{  F-statistic:       } & 3.114e+04   \\\\\n",
       "\\textbf{Date:}             & Thu, 08 Aug 2024 & \\textbf{  Prob (F-statistic):} &     0.00    \\\\\n",
       "\\textbf{Time:}             &     17:16:39     & \\textbf{  Log-Likelihood:    } &   -28088.   \\\\\n",
       "\\textbf{No. Observations:} &        9568      & \\textbf{  AIC:               } & 5.619e+04   \\\\\n",
       "\\textbf{Df Residuals:}     &        9563      & \\textbf{  BIC:               } & 5.622e+04   \\\\\n",
       "\\textbf{Df Model:}         &           4      & \\textbf{                     } &             \\\\\n",
       "\\textbf{Covariance Type:}  &    nonrobust     & \\textbf{                     } &             \\\\\n",
       "\\bottomrule\n",
       "\\end{tabular}\n",
       "\\begin{tabular}{lcccccc}\n",
       "                           & \\textbf{coef} & \\textbf{std err} & \\textbf{t} & \\textbf{P$> |$t$|$} & \\textbf{[0.025} & \\textbf{0.975]}  \\\\\n",
       "\\midrule\n",
       "\\textbf{const}             &     454.6093  &        9.749     &    46.634  &         0.000        &      435.500    &      473.718     \\\\\n",
       "\\textbf{Temperature}       &      -1.9775  &        0.015     &  -129.342  &         0.000        &       -2.007    &       -1.948     \\\\\n",
       "\\textbf{Exhaust\\_Vacuum}   &      -0.2339  &        0.007     &   -32.122  &         0.000        &       -0.248    &       -0.220     \\\\\n",
       "\\textbf{Ambient\\_Pressure} &       0.0621  &        0.009     &     6.564  &         0.000        &        0.044    &        0.081     \\\\\n",
       "\\textbf{Relative Humidity} &      -0.1581  &        0.004     &   -37.918  &         0.000        &       -0.166    &       -0.150     \\\\\n",
       "\\bottomrule\n",
       "\\end{tabular}\n",
       "\\begin{tabular}{lclc}\n",
       "\\textbf{Omnibus:}       & 892.002 & \\textbf{  Durbin-Watson:     } &    2.033  \\\\\n",
       "\\textbf{Prob(Omnibus):} &   0.000 & \\textbf{  Jarque-Bera (JB):  } & 4086.777  \\\\\n",
       "\\textbf{Skew:}          &  -0.352 & \\textbf{  Prob(JB):          } &     0.00  \\\\\n",
       "\\textbf{Kurtosis:}      &   6.123 & \\textbf{  Cond. No.          } & 2.13e+05  \\\\\n",
       "\\bottomrule\n",
       "\\end{tabular}\n",
       "%\\caption{OLS Regression Results}\n",
       "\\end{center}\n",
       "\n",
       "Notes: \\newline\n",
       " [1] Standard Errors assume that the covariance matrix of the errors is correctly specified. \\newline\n",
       " [2] The condition number is large, 2.13e+05. This might indicate that there are \\newline\n",
       " strong multicollinearity or other numerical problems."
      ],
      "text/plain": [
       "<class 'statsmodels.iolib.summary.Summary'>\n",
       "\"\"\"\n",
       "                            OLS Regression Results                            \n",
       "==============================================================================\n",
       "Dep. Variable:          Energy Output   R-squared:                       0.929\n",
       "Model:                            OLS   Adj. R-squared:                  0.929\n",
       "Method:                 Least Squares   F-statistic:                 3.114e+04\n",
       "Date:                Thu, 08 Aug 2024   Prob (F-statistic):               0.00\n",
       "Time:                        17:16:39   Log-Likelihood:                -28088.\n",
       "No. Observations:                9568   AIC:                         5.619e+04\n",
       "Df Residuals:                    9563   BIC:                         5.622e+04\n",
       "Df Model:                           4                                         \n",
       "Covariance Type:            nonrobust                                         \n",
       "=====================================================================================\n",
       "                        coef    std err          t      P>|t|      [0.025      0.975]\n",
       "-------------------------------------------------------------------------------------\n",
       "const               454.6093      9.749     46.634      0.000     435.500     473.718\n",
       "Temperature          -1.9775      0.015   -129.342      0.000      -2.007      -1.948\n",
       "Exhaust_Vacuum       -0.2339      0.007    -32.122      0.000      -0.248      -0.220\n",
       "Ambient_Pressure      0.0621      0.009      6.564      0.000       0.044       0.081\n",
       "Relative Humidity    -0.1581      0.004    -37.918      0.000      -0.166      -0.150\n",
       "==============================================================================\n",
       "Omnibus:                      892.002   Durbin-Watson:                   2.033\n",
       "Prob(Omnibus):                  0.000   Jarque-Bera (JB):             4086.777\n",
       "Skew:                          -0.352   Prob(JB):                         0.00\n",
       "Kurtosis:                       6.123   Cond. No.                     2.13e+05\n",
       "==============================================================================\n",
       "\n",
       "Notes:\n",
       "[1] Standard Errors assume that the covariance matrix of the errors is correctly specified.\n",
       "[2] The condition number is large, 2.13e+05. This might indicate that there are\n",
       "strong multicollinearity or other numerical problems.\n",
       "\"\"\""
      ]
     },
     "execution_count": 15,
     "metadata": {},
     "output_type": "execute_result"
    }
   ],
   "source": [
    "results.summary()"
   ]
  },
  {
   "cell_type": "code",
   "execution_count": 17,
   "metadata": {},
   "outputs": [
    {
     "name": "stdout",
     "output_type": "stream",
     "text": [
      "P-values: const                 0.000000e+00\n",
      "Temperature           0.000000e+00\n",
      "Exhaust_Vacuum       4.375305e-215\n",
      "Ambient_Pressure      5.507109e-11\n",
      "Relative Humidity    3.104584e-293\n",
      "dtype: float64\n"
     ]
    }
   ],
   "source": [
    "p_values = results.pvalues\n",
    "print(\"P-values:\", p_values)"
   ]
  }
 ],
 "metadata": {
  "kernelspec": {
   "display_name": "base",
   "language": "python",
   "name": "python3"
  },
  "language_info": {
   "codemirror_mode": {
    "name": "ipython",
    "version": 3
   },
   "file_extension": ".py",
   "mimetype": "text/x-python",
   "name": "python",
   "nbconvert_exporter": "python",
   "pygments_lexer": "ipython3",
   "version": "3.12.4"
  }
 },
 "nbformat": 4,
 "nbformat_minor": 2
}
