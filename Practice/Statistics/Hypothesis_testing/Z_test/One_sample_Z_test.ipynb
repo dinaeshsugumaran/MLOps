{
 "cells": [
  {
   "cell_type": "markdown",
   "metadata": {},
   "source": [
    "\n",
    "Example Problem 1: Testing a Factory Claim\n",
    "\n",
    "Problem: A factory claims that the average weight of its cereal boxes is 500 g. A quality inspector randomly selects 40 boxes and finds a sample mean weight of 495 g with a known population standard deviation of 10 g. At a 5% significance level (α = 0.05), is there enough evidence to reject the factory's claim?"
   ]
  },
  {
   "cell_type": "code",
   "execution_count": 1,
   "metadata": {},
   "outputs": [],
   "source": [
    "from statsmodels.stats.weightstats import ztest\n",
    "import numpy as np\n",
    "from scipy.stats import norm"
   ]
  },
  {
   "cell_type": "code",
   "execution_count": 2,
   "metadata": {},
   "outputs": [],
   "source": [
    "#significance level\n",
    "alpha = 0.05"
   ]
  },
  {
   "cell_type": "code",
   "execution_count": 3,
   "metadata": {},
   "outputs": [],
   "source": [
    "#given_data\n",
    "population_mean = 500 #claimed by the factory\n",
    "population_std_dev = 10\n",
    "sample_mean = 495\n",
    "sample_size = 40"
   ]
  },
  {
   "cell_type": "code",
   "execution_count": 4,
   "metadata": {},
   "outputs": [
    {
     "data": {
      "text/plain": [
       "-3.1622776601683795"
      ]
     },
     "execution_count": 4,
     "metadata": {},
     "output_type": "execute_result"
    }
   ],
   "source": [
    "Z_score = (sample_mean - population_mean ) / (population_std_dev/np.sqrt(sample_size))\n",
    "Z_score"
   ]
  },
  {
   "cell_type": "code",
   "execution_count": 6,
   "metadata": {},
   "outputs": [
    {
     "data": {
      "text/plain": [
       "0.0015654022580025018"
      ]
     },
     "execution_count": 6,
     "metadata": {},
     "output_type": "execute_result"
    }
   ],
   "source": [
    "p_value = 2 * (1-norm.cdf(abs(Z_score)))\n",
    "p_value"
   ]
  },
  {
   "cell_type": "code",
   "execution_count": 7,
   "metadata": {},
   "outputs": [
    {
     "name": "stdout",
     "output_type": "stream",
     "text": [
      "Reject the null hypothesis.\n"
     ]
    }
   ],
   "source": [
    "if p_value < alpha:\n",
    "    print(\"Reject the null hypothesis.\")\n",
    "else:\n",
    "    print(\"Fail to reject the null hypothesis.\")"
   ]
  },
  {
   "cell_type": "code",
   "execution_count": 28,
   "metadata": {},
   "outputs": [
    {
     "name": "stdout",
     "output_type": "stream",
     "text": [
      "Reject the null hypothesis.\n"
     ]
    }
   ],
   "source": [
    "# now by using ztest package directly to solve this problem\n",
    "\n",
    "#but before that, lets cook some data using numpy\n",
    "\n",
    "data = np.random.normal(sample_mean,12,40)\n",
    "\n",
    "z_score, p_value_2 = ztest(data,value=population_mean)\n",
    "if p_value_2 < alpha:\n",
    "    print(\"Reject the null hypothesis.\")\n",
    "else:\n",
    "    print(\"Fail to reject the null hypothesis.\")\n"
   ]
  },
  {
   "cell_type": "markdown",
   "metadata": {},
   "source": [
    "Example Problem 2: Customer Satisfaction Survey\n",
    "\n",
    "Problem: A company claims that the average satisfaction score for its product is 80 out of 100. A sample of 50 customers provides a mean score of 78 with a population standard deviation of 5. At a 1% significance level (α = 0.01), test if the average satisfaction score is less than 80."
   ]
  },
  {
   "cell_type": "code",
   "execution_count": 58,
   "metadata": {},
   "outputs": [],
   "source": [
    "#given data\n",
    "\n",
    "ex_2_population_mean = 80\n",
    "ex_2_population_std_dev = 5\n",
    "ex_2_sample_mean = 78\n",
    "ex_2_sample_std_dev = 5\n",
    "ex_2_sample_size = 50"
   ]
  },
  {
   "cell_type": "code",
   "execution_count": null,
   "metadata": {},
   "outputs": [],
   "source": [
    "#significance level\n",
    "alpha = 0.01"
   ]
  },
  {
   "cell_type": "code",
   "execution_count": 59,
   "metadata": {},
   "outputs": [
    {
     "data": {
      "text/plain": [
       "-2.8284271247461903"
      ]
     },
     "execution_count": 59,
     "metadata": {},
     "output_type": "execute_result"
    }
   ],
   "source": [
    "#z score \n",
    "\n",
    "Z_score = (ex_2_sample_mean - ex_2_population_mean ) / (ex_2_population_std_dev/np.sqrt(ex_2_sample_size))\n",
    "Z_score"
   ]
  },
  {
   "cell_type": "code",
   "execution_count": 63,
   "metadata": {},
   "outputs": [
    {
     "data": {
      "text/plain": [
       "0.0023388674905236283"
      ]
     },
     "execution_count": 63,
     "metadata": {},
     "output_type": "execute_result"
    }
   ],
   "source": [
    "p_value =norm.cdf((Z_score))\n",
    "p_value"
   ]
  },
  {
   "cell_type": "code",
   "execution_count": 64,
   "metadata": {},
   "outputs": [
    {
     "name": "stdout",
     "output_type": "stream",
     "text": [
      "Reject the null hypothesis.\n"
     ]
    }
   ],
   "source": [
    "if p_value < alpha:\n",
    "    print(\"Reject the null hypothesis.\")\n",
    "else:\n",
    "    print(\"Fail to reject the null hypothesis.\")"
   ]
  },
  {
   "cell_type": "code",
   "execution_count": 62,
   "metadata": {},
   "outputs": [
    {
     "name": "stdout",
     "output_type": "stream",
     "text": [
      "Z-score: -2.83\n",
      "P-value: 0.0023\n",
      "Reject the null hypothesis: The average satisfaction score is significantly less than 80.\n"
     ]
    }
   ],
   "source": [
    "import scipy.stats as stats\n",
    "import numpy as np\n",
    "\n",
    "# Given values\n",
    "population_mean = 80\n",
    "sample_mean = 78\n",
    "population_std = 5\n",
    "n = 50\n",
    "alpha = 0.01\n",
    "\n",
    "# Calculate z-score\n",
    "z = (sample_mean - population_mean) / (population_std / np.sqrt(n))\n",
    "\n",
    "# Calculate p-value for one-tailed test\n",
    "p_value = stats.norm.cdf(z)\n",
    "\n",
    "# Print results\n",
    "print(f\"Z-score: {z:.2f}\")\n",
    "print(f\"P-value: {p_value:.4f}\")\n",
    "\n",
    "# Decision\n",
    "if p_value < alpha:\n",
    "    print(\"Reject the null hypothesis: The average satisfaction score is significantly less than 80.\")\n",
    "else:\n",
    "    print(\"Fail to reject the null hypothesis: Not enough evidence to say the score is less than 80.\")\n"
   ]
  }
 ],
 "metadata": {
  "kernelspec": {
   "display_name": "base",
   "language": "python",
   "name": "python3"
  },
  "language_info": {
   "codemirror_mode": {
    "name": "ipython",
    "version": 3
   },
   "file_extension": ".py",
   "mimetype": "text/x-python",
   "name": "python",
   "nbconvert_exporter": "python",
   "pygments_lexer": "ipython3",
   "version": "3.12.4"
  }
 },
 "nbformat": 4,
 "nbformat_minor": 2
}
