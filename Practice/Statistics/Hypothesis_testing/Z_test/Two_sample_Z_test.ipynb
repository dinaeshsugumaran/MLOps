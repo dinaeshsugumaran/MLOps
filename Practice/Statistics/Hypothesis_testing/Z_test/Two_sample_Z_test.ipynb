{
 "cells": [
  {
   "cell_type": "markdown",
   "metadata": {},
   "source": [
    "A 2-sample Z-test compares the means of two independent groups to determine if there is a significant difference between them. This test assumes that the population standard deviations are known or that the sample sizes are large enough to approximate them."
   ]
  },
  {
   "cell_type": "markdown",
   "metadata": {},
   "source": [
    "Example Problem\n",
    "Problem: Two different training programs are tested for their effectiveness. Program A has 50 participants with a mean score of 80 and a standard deviation of 10. Program B has 60 participants with a mean score of 85 and a standard deviation of 12. At a 5% significance level ( απ 0.05), is there a significant difference in the average scores?"
   ]
  },
  {
   "cell_type": "code",
   "execution_count": 1,
   "metadata": {},
   "outputs": [],
   "source": [
    "from statsmodels.stats.weightstats import ztest\n",
    "import numpy as np\n",
    "from scipy.stats import norm"
   ]
  },
  {
   "cell_type": "code",
   "execution_count": 2,
   "metadata": {},
   "outputs": [],
   "source": [
    "#given data\n",
    "\n",
    "sample_mean_1 = 80\n",
    "sample_std_dev_1 = 10\n",
    "sample_size_1 = 50\n",
    "\n",
    "sample_mean_2 = 85\n",
    "sample_std_dev_2 = 12\n",
    "sample_size_2 = 60"
   ]
  },
  {
   "cell_type": "code",
   "execution_count": 3,
   "metadata": {},
   "outputs": [],
   "source": [
    "#significance level\n",
    "alpha = 0.05"
   ]
  },
  {
   "cell_type": "code",
   "execution_count": 7,
   "metadata": {},
   "outputs": [
    {
     "data": {
      "text/plain": [
       "-2.3836564731139807"
      ]
     },
     "execution_count": 7,
     "metadata": {},
     "output_type": "execute_result"
    }
   ],
   "source": [
    "Z_score = (sample_mean_1-sample_mean_2) /(np.sqrt((sample_std_dev_1**2/sample_size_1)+(sample_std_dev_2**2/sample_size_2)))\n",
    "Z_score"
   ]
  },
  {
   "cell_type": "code",
   "execution_count": 8,
   "metadata": {},
   "outputs": [
    {
     "data": {
      "text/plain": [
       "0.01714159544079563"
      ]
     },
     "execution_count": 8,
     "metadata": {},
     "output_type": "execute_result"
    }
   ],
   "source": [
    "p_value = 2* (1-norm.cdf(abs(Z_score)))\n",
    "p_value"
   ]
  },
  {
   "cell_type": "code",
   "execution_count": 9,
   "metadata": {},
   "outputs": [
    {
     "name": "stdout",
     "output_type": "stream",
     "text": [
      "Reject the null hypothesis.\n"
     ]
    }
   ],
   "source": [
    "if p_value < alpha:\n",
    "    print(\"Reject the null hypothesis.\")\n",
    "else:\n",
    "    print(\"Fail to reject the null hypothesis.\")"
   ]
  }
 ],
 "metadata": {
  "kernelspec": {
   "display_name": "base",
   "language": "python",
   "name": "python3"
  },
  "language_info": {
   "codemirror_mode": {
    "name": "ipython",
    "version": 3
   },
   "file_extension": ".py",
   "mimetype": "text/x-python",
   "name": "python",
   "nbconvert_exporter": "python",
   "pygments_lexer": "ipython3",
   "version": "3.12.4"
  }
 },
 "nbformat": 4,
 "nbformat_minor": 2
}
