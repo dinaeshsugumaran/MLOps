{
 "cells": [
  {
   "cell_type": "code",
   "execution_count": 10,
   "id": "cdd8feaf",
   "metadata": {},
   "outputs": [],
   "source": [
    "from statsmodels.stats.weightstats import ztest\n",
    "import numpy as np\n",
    "from scipy.stats import norm,t"
   ]
  },
  {
   "cell_type": "markdown",
   "id": "0ea45c06",
   "metadata": {},
   "source": [
    "The company wants to compare the average monthly sales of two branches. The data is as follows:\n",
    "\n",
    "Branch A: Mean = 51.8, Variance = 10.7, Sample size = 5\n",
    "\n",
    "Branch B: Mean = 46.0, Variance = 2.5, Sample size = 5\n",
    "\n",
    "Assume equal variances. Test if the average sales differ between the two branches at a 5% significance level."
   ]
  },
  {
   "cell_type": "code",
   "execution_count": 2,
   "id": "c325a676",
   "metadata": {},
   "outputs": [],
   "source": [
    "#given data\n",
    "\n",
    "alpha = 0.05\n",
    "pop_mean_A = 51.8\n",
    "pop_mean_B = 46\n",
    "pop_variance_A = 10.7\n",
    "pop_variance_B = 2.5\n",
    "sample_size_A = sample_size_B = 5"
   ]
  },
  {
   "cell_type": "markdown",
   "id": "afeaac41",
   "metadata": {},
   "source": [
    "hypothesis\n",
    "\n",
    "Ho - mean_A = mean_B\n",
    "H1 - mean_A != mean_B"
   ]
  },
  {
   "cell_type": "code",
   "execution_count": 16,
   "id": "dfd83ff4",
   "metadata": {},
   "outputs": [
    {
     "data": {
      "text/plain": [
       "3.57"
      ]
     },
     "execution_count": 16,
     "metadata": {},
     "output_type": "execute_result"
    }
   ],
   "source": [
    "test_statistic = (pop_mean_A-pop_mean_B)/(np.sqrt((pop_variance_A/sample_size_A)+(pop_variance_B/sample_size_B)))\n",
    "round(test_statistic,3)"
   ]
  },
  {
   "cell_type": "code",
   "execution_count": 13,
   "id": "b27d0d6e",
   "metadata": {},
   "outputs": [],
   "source": [
    "deg_of_free = sample_size_A + sample_size_B - 2"
   ]
  },
  {
   "cell_type": "code",
   "execution_count": 17,
   "id": "cebde081",
   "metadata": {},
   "outputs": [
    {
     "data": {
      "text/plain": [
       "8"
      ]
     },
     "execution_count": 17,
     "metadata": {},
     "output_type": "execute_result"
    }
   ],
   "source": [
    "deg_of_free"
   ]
  },
  {
   "cell_type": "code",
   "execution_count": 21,
   "id": "71080dc1",
   "metadata": {},
   "outputs": [
    {
     "data": {
      "text/plain": [
       "0.007"
      ]
     },
     "execution_count": 21,
     "metadata": {},
     "output_type": "execute_result"
    }
   ],
   "source": [
    "p_value = 2 * (1-t.cdf(abs(test_statistic),deg_of_free))\n",
    "round(p_value,3)"
   ]
  },
  {
   "cell_type": "code",
   "execution_count": 22,
   "id": "abb4836d",
   "metadata": {},
   "outputs": [
    {
     "name": "stdout",
     "output_type": "stream",
     "text": [
      "Reject the null hypothesis.\n"
     ]
    }
   ],
   "source": [
    "if p_value < alpha:\n",
    "    print(\"Reject the null hypothesis.\")\n",
    "else:\n",
    "    print(\"Fail to reject the null hypothesis.\")"
   ]
  }
 ],
 "metadata": {
  "kernelspec": {
   "display_name": "base",
   "language": "python",
   "name": "python3"
  },
  "language_info": {
   "codemirror_mode": {
    "name": "ipython",
    "version": 3
   },
   "file_extension": ".py",
   "mimetype": "text/x-python",
   "name": "python",
   "nbconvert_exporter": "python",
   "pygments_lexer": "ipython3",
   "version": "3.12.4"
  }
 },
 "nbformat": 4,
 "nbformat_minor": 5
}
