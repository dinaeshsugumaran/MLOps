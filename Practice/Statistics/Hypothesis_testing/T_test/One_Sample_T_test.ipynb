{
 "cells": [
  {
   "cell_type": "markdown",
   "id": "00df7db8",
   "metadata": {},
   "source": [
    "Example 1: Exam Scores\n",
    "A teacher claims that the average score of their students on a standardized test is 75. A random\n",
    "sample of 30 students has a mean score of 78 with a standard deviation of 10. At a 5%\n",
    "significance level, test if the students' scores are significantly different from 75."
   ]
  },
  {
   "cell_type": "code",
   "execution_count": 8,
   "id": "5277cf44",
   "metadata": {},
   "outputs": [],
   "source": [
    "from statsmodels.stats.weightstats import ztest\n",
    "import numpy as np\n",
    "from scipy.stats import norm,t"
   ]
  },
  {
   "cell_type": "markdown",
   "id": "a1f095f1",
   "metadata": {},
   "source": [
    "Hypothesis,\n",
    "\n",
    "Ho - Mean  = 75 \n",
    "\n",
    "Ha - Mean != 75"
   ]
  },
  {
   "cell_type": "code",
   "execution_count": 4,
   "id": "c9df3f4d",
   "metadata": {},
   "outputs": [],
   "source": [
    "# given data\n",
    "\n",
    "alpha = 0.05\n",
    "sample_size = 30\n",
    "sample_mean = 78\n",
    "sample_std_dev = 10\n",
    "population_mean = 75"
   ]
  },
  {
   "cell_type": "code",
   "execution_count": 32,
   "id": "c0a0f85d",
   "metadata": {},
   "outputs": [
    {
     "data": {
      "text/plain": [
       "1.8633899812498251"
      ]
     },
     "execution_count": 32,
     "metadata": {},
     "output_type": "execute_result"
    }
   ],
   "source": [
    "# test statistic\n",
    "\n",
    "\n",
    "test_stat = (sample_mean-population_mean)/(sample_std_dev/np.sqrt(sample_size))\n",
    "test_stat"
   ]
  },
  {
   "cell_type": "code",
   "execution_count": 33,
   "id": "7d9b2848",
   "metadata": {},
   "outputs": [],
   "source": [
    "deg_of_free = sample_size -1"
   ]
  },
  {
   "cell_type": "code",
   "execution_count": 34,
   "id": "eab150fb",
   "metadata": {},
   "outputs": [
    {
     "data": {
      "text/plain": [
       "0.07793909668753285"
      ]
     },
     "execution_count": 34,
     "metadata": {},
     "output_type": "execute_result"
    }
   ],
   "source": [
    "p_value = 2 * (1-t.cdf(abs(test_stat),deg_of_free))\n",
    "p_value"
   ]
  },
  {
   "cell_type": "code",
   "execution_count": 12,
   "id": "38ed2edc",
   "metadata": {},
   "outputs": [
    {
     "name": "stdout",
     "output_type": "stream",
     "text": [
      "Fail to reject the null hypothesis.\n"
     ]
    }
   ],
   "source": [
    "if p_value < alpha:\n",
    "    print(\"Reject the null hypothesis.\")\n",
    "else:\n",
    "    print(\"Fail to reject the null hypothesis.\")"
   ]
  },
  {
   "cell_type": "markdown",
   "id": "73af79f6",
   "metadata": {},
   "source": []
  },
  {
   "cell_type": "markdown",
   "id": "03a99bc2",
   "metadata": {},
   "source": []
  },
  {
   "cell_type": "markdown",
   "id": "e773a197",
   "metadata": {},
   "source": []
  },
  {
   "cell_type": "markdown",
   "id": "5d867161",
   "metadata": {},
   "source": [
    "Example 2 -\n",
    "\n",
    "A coffee shop advertises that the average waiting time for customers is 5 minutes. A customer group believes the waiting time is longer. They collect a sample of 20 customers and find a mean waiting time of 5.5 minutes with a standard deviation of 1.2 minutes. At a 0.01 significance level, test if the average waiting time is greater than 5 minutes."
   ]
  },
  {
   "cell_type": "markdown",
   "id": "81c1b989",
   "metadata": {},
   "source": [
    "Hypothesis,\n",
    "\n",
    "Ho - Mean  <= 5 \n",
    "\n",
    "Ha - Mean > 75"
   ]
  },
  {
   "cell_type": "code",
   "execution_count": 28,
   "id": "43a16c9e",
   "metadata": {},
   "outputs": [],
   "source": [
    "#given data\n",
    "\n",
    "sample_mean = 5.5\n",
    "population_mean = 5\n",
    "sample_size = 20\n",
    "sample_std_dev = 1.2\n",
    "alpha = 0.01"
   ]
  },
  {
   "cell_type": "code",
   "execution_count": 18,
   "id": "e68f323f",
   "metadata": {},
   "outputs": [
    {
     "data": {
      "text/plain": [
       "1.863"
      ]
     },
     "execution_count": 18,
     "metadata": {},
     "output_type": "execute_result"
    }
   ],
   "source": [
    "\n",
    "test_stat = (sample_mean-population_mean)/(sample_std_dev/np.sqrt(sample_size))\n",
    "np.round(test_stat,3)"
   ]
  },
  {
   "cell_type": "code",
   "execution_count": 22,
   "id": "b0aea1bb",
   "metadata": {},
   "outputs": [],
   "source": [
    "deg_of_free = sample_size - 1"
   ]
  },
  {
   "cell_type": "code",
   "execution_count": 25,
   "id": "1c4990c1",
   "metadata": {},
   "outputs": [
    {
     "data": {
      "text/plain": [
       "0.039"
      ]
     },
     "execution_count": 25,
     "metadata": {},
     "output_type": "execute_result"
    }
   ],
   "source": [
    "p_value = 1-t.cdf(abs(test_stat),deg_of_free)\n",
    "\n",
    "np.round(p_value,3)"
   ]
  },
  {
   "cell_type": "code",
   "execution_count": 29,
   "id": "8d89813b",
   "metadata": {},
   "outputs": [
    {
     "name": "stdout",
     "output_type": "stream",
     "text": [
      "Fail to reject the null hypothesis.\n"
     ]
    }
   ],
   "source": [
    "if p_value < alpha:\n",
    "    print(\"Reject the null hypothesis.\")\n",
    "else:\n",
    "    print(\"Fail to reject the null hypothesis.\")"
   ]
  }
 ],
 "metadata": {
  "kernelspec": {
   "display_name": "base",
   "language": "python",
   "name": "python3"
  },
  "language_info": {
   "codemirror_mode": {
    "name": "ipython",
    "version": 3
   },
   "file_extension": ".py",
   "mimetype": "text/x-python",
   "name": "python",
   "nbconvert_exporter": "python",
   "pygments_lexer": "ipython3",
   "version": "3.12.4"
  }
 },
 "nbformat": 4,
 "nbformat_minor": 5
}
