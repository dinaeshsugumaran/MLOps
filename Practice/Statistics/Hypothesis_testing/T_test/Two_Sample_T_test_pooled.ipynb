{
 "cells": [
  {
   "cell_type": "markdown",
   "id": "bc618239",
   "metadata": {},
   "source": [
    "A researcher wants to compare the effectiveness of two teaching methods based on student test scores (out of 100):\n",
    "Method A: Mean = 87.2, Variance = 4.7, Sample size = 5\n",
    "Method B: Mean = 82.0, Variance = 2.5, Sample size = 5\n",
    "Assume equal variances. Test if the mean test scores differ between the two methods at a 5% significance level."
   ]
  },
  {
   "cell_type": "code",
   "execution_count": 1,
   "id": "fcd3592d",
   "metadata": {},
   "outputs": [],
   "source": [
    "from statsmodels.stats.weightstats import ztest\n",
    "import numpy as np\n",
    "from scipy.stats import norm,t"
   ]
  },
  {
   "cell_type": "code",
   "execution_count": 8,
   "id": "73742839",
   "metadata": {},
   "outputs": [],
   "source": [
    "#given data\n",
    "\n",
    "pop_mean_A = 87.2\n",
    "pop_var_A = 4.7\n",
    "pop_size_A = 5\n",
    "\n",
    "pop_mean_B = 82\n",
    "pop_var_B = 2.5\n",
    "pop_size_B = 5\n",
    "\n",
    "alpha = 0.05\n",
    "deg_of_free = pop_size_A+pop_size_B-2"
   ]
  },
  {
   "cell_type": "markdown",
   "id": "41688989",
   "metadata": {},
   "source": [
    "#hypothesis\n",
    "\n",
    "h0 - mean_a = mean_b\n",
    "\n",
    "\n",
    "h1 - mean_a != mean_b"
   ]
  },
  {
   "cell_type": "code",
   "execution_count": 5,
   "id": "272bc5c4",
   "metadata": {},
   "outputs": [
    {
     "data": {
      "text/plain": [
       "3.6"
      ]
     },
     "execution_count": 5,
     "metadata": {},
     "output_type": "execute_result"
    }
   ],
   "source": [
    "Pooled_variance = (((pop_size_A-1)*pop_var_A)+((pop_size_B-1)*pop_var_B))/(pop_size_A+pop_size_B-2)\n",
    "Pooled_variance"
   ]
  },
  {
   "cell_type": "code",
   "execution_count": 7,
   "id": "d7e90ed5",
   "metadata": {},
   "outputs": [
    {
     "data": {
      "text/plain": [
       "4.33"
      ]
     },
     "execution_count": 7,
     "metadata": {},
     "output_type": "execute_result"
    }
   ],
   "source": [
    "test_stat = (pop_mean_A-pop_mean_B)/(np.sqrt(Pooled_variance*((1/pop_size_A)+(1/pop_size_B))))\n",
    "round(test_stat,2)"
   ]
  },
  {
   "cell_type": "code",
   "execution_count": 10,
   "id": "a732cca0",
   "metadata": {},
   "outputs": [
    {
     "data": {
      "text/plain": [
       "0.003"
      ]
     },
     "execution_count": 10,
     "metadata": {},
     "output_type": "execute_result"
    }
   ],
   "source": [
    "p_value = 2 * (1-t.cdf(abs(test_stat),deg_of_free))\n",
    "round(p_value,3)"
   ]
  },
  {
   "cell_type": "code",
   "execution_count": 11,
   "id": "990ea82a",
   "metadata": {},
   "outputs": [
    {
     "name": "stdout",
     "output_type": "stream",
     "text": [
      "Reject the null hypothesis.\n"
     ]
    }
   ],
   "source": [
    "if p_value < alpha:\n",
    "    print(\"Reject the null hypothesis.\")\n",
    "else:\n",
    "    print(\"Fail to reject the null hypothesis.\")"
   ]
  }
 ],
 "metadata": {
  "kernelspec": {
   "display_name": "base",
   "language": "python",
   "name": "python3"
  },
  "language_info": {
   "codemirror_mode": {
    "name": "ipython",
    "version": 3
   },
   "file_extension": ".py",
   "mimetype": "text/x-python",
   "name": "python",
   "nbconvert_exporter": "python",
   "pygments_lexer": "ipython3",
   "version": "3.12.4"
  }
 },
 "nbformat": 4,
 "nbformat_minor": 5
}
