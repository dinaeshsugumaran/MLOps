{
 "cells": [
  {
   "cell_type": "code",
   "execution_count": 1,
   "id": "f0898ca1",
   "metadata": {},
   "outputs": [],
   "source": [
    "from statsmodels.stats.weightstats import ztest\n",
    "import numpy as np\n",
    "from scipy.stats import norm,t"
   ]
  },
  {
   "cell_type": "code",
   "execution_count": 20,
   "id": "b892b5f7",
   "metadata": {},
   "outputs": [],
   "source": [
    "# given data\n",
    "\n",
    "pre_test = np.array([50,55,60,45,48])\n",
    "post_test = np.array([70,65,75,60,62])\n",
    "avg_difference = np.mean (post_test-pre_test)\n",
    "variance  = np.var(post_test-pre_test, ddof=1)\n",
    "std_dev = np.sqrt(variance)\n",
    "deg_of_free = post_test.size - 1\n",
    "alpha = 0.05"
   ]
  },
  {
   "cell_type": "markdown",
   "id": "7d2b6f5b",
   "metadata": {},
   "source": [
    "Hypothesis\n",
    "\n",
    "h0 - avg_diff =0\n",
    "\n",
    "h1 - avg_diff >0"
   ]
  },
  {
   "cell_type": "code",
   "execution_count": 17,
   "id": "9d6b77f4",
   "metadata": {},
   "outputs": [
    {
     "data": {
      "text/plain": [
       "9.286345916044747"
      ]
     },
     "execution_count": 17,
     "metadata": {},
     "output_type": "execute_result"
    }
   ],
   "source": [
    "test_statistic = avg_difference/(std_dev/np.sqrt(post_test.size))\n",
    "test_statistic"
   ]
  },
  {
   "cell_type": "code",
   "execution_count": 19,
   "id": "b0203610",
   "metadata": {},
   "outputs": [
    {
     "data": {
      "text/plain": [
       "0.0007480353511815085"
      ]
     },
     "execution_count": 19,
     "metadata": {},
     "output_type": "execute_result"
    }
   ],
   "source": [
    "p_value = 2 * (1-t.cdf(abs(test_statistic),deg_of_free))\n",
    "p_value"
   ]
  },
  {
   "cell_type": "code",
   "execution_count": 21,
   "id": "94606cf6",
   "metadata": {},
   "outputs": [
    {
     "name": "stdout",
     "output_type": "stream",
     "text": [
      "Reject the null hypothesis.\n"
     ]
    }
   ],
   "source": [
    "if p_value < alpha:\n",
    "    print(\"Reject the null hypothesis.\")\n",
    "else:\n",
    "    print(\"Fail to reject the null hypothesis.\")"
   ]
  }
 ],
 "metadata": {
  "kernelspec": {
   "display_name": "base",
   "language": "python",
   "name": "python3"
  },
  "language_info": {
   "codemirror_mode": {
    "name": "ipython",
    "version": 3
   },
   "file_extension": ".py",
   "mimetype": "text/x-python",
   "name": "python",
   "nbconvert_exporter": "python",
   "pygments_lexer": "ipython3",
   "version": "3.12.4"
  }
 },
 "nbformat": 4,
 "nbformat_minor": 5
}
