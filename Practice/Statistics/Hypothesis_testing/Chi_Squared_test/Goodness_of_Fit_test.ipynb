{
 "cells": [
  {
   "cell_type": "code",
   "execution_count": 1,
   "id": "4877d938",
   "metadata": {},
   "outputs": [],
   "source": [
    "import scipy.stats as stats"
   ]
  },
  {
   "cell_type": "markdown",
   "id": "af585cf5",
   "metadata": {},
   "source": [
    "Scenario:\n",
    "An e-commerce company wants to test if the sales distribution across its four regions (North, South, East, West) is uniform. The company believes that marketing and customer behavior are consistent across the country, so they expect an equal number of sales in each region. Now, they want to check if the observed sales numbers match this expectation.\n",
    "\n"
   ]
  },
  {
   "cell_type": "markdown",
   "id": "7897f59c",
   "metadata": {},
   "source": [
    "Step 1: Define the Problem\n",
    "Null Hypothesis (H₀):\n",
    "The sales are uniformly distributed across all regions. This means the expected number of sales in each region should be the same.\n",
    "\n",
    "Alternative Hypothesis (H₁):\n",
    "The sales are not uniformly distributed across the regions.\n",
    "\n",
    "Step 2: Collect the Data\n",
    "Here’s the observed data (sales numbers from each region):\n",
    "\n",
    "\n",
    "Region\tSales (Observed)\n",
    "North\t1000\n",
    "South\t1200\n",
    "East\t1100\n",
    "West\t900\n",
    "Total\t4200"
   ]
  },
  {
   "cell_type": "code",
   "execution_count": 4,
   "id": "4feeb3c1",
   "metadata": {},
   "outputs": [],
   "source": [
    "# Observed table\n",
    "observed = [1000, 1200, 1100, 900]"
   ]
  },
  {
   "cell_type": "code",
   "execution_count": 5,
   "id": "d89a3fa8",
   "metadata": {},
   "outputs": [
    {
     "data": {
      "text/plain": [
       "[1050.0, 1050.0, 1050.0, 1050.0]"
      ]
     },
     "execution_count": 5,
     "metadata": {},
     "output_type": "execute_result"
    }
   ],
   "source": [
    "avg = sum(observed)/4\n",
    "expected = [avg]*4\n",
    "expected"
   ]
  },
  {
   "cell_type": "code",
   "execution_count": 6,
   "id": "316f79ae",
   "metadata": {},
   "outputs": [],
   "source": [
    "chi2_stat, p_value = stats.chisquare(observed, expected)\n",
    "\n",
    "# Degrees of Freedom\n",
    "df = len(observed) - 1"
   ]
  },
  {
   "cell_type": "code",
   "execution_count": 7,
   "id": "483de11a",
   "metadata": {},
   "outputs": [
    {
     "name": "stdout",
     "output_type": "stream",
     "text": [
      "Chi-Square Statistic: 47.61904761904761\n",
      "P-value: 2.566459761759989e-10\n",
      "Degrees of Freedom: 3\n",
      "Reject the null hypothesis: Sales are not uniformly distributed.\n"
     ]
    }
   ],
   "source": [
    "# Display results\n",
    "print(f\"Chi-Square Statistic: {chi2_stat}\")\n",
    "print(f\"P-value: {p_value}\")\n",
    "print(f\"Degrees of Freedom: {df}\")\n",
    "\n",
    "# Decision based on p-value\n",
    "alpha = 0.05  # Significance level\n",
    "if p_value < alpha:\n",
    "    print(\"Reject the null hypothesis: Sales are not uniformly distributed.\")\n",
    "else:\n",
    "    print(\"Fail to reject the null hypothesis: Sales are uniformly distributed.\")"
   ]
  }
 ],
 "metadata": {
  "kernelspec": {
   "display_name": "base",
   "language": "python",
   "name": "python3"
  },
  "language_info": {
   "codemirror_mode": {
    "name": "ipython",
    "version": 3
   },
   "file_extension": ".py",
   "mimetype": "text/x-python",
   "name": "python",
   "nbconvert_exporter": "python",
   "pygments_lexer": "ipython3",
   "version": "3.12.4"
  }
 },
 "nbformat": 4,
 "nbformat_minor": 5
}
