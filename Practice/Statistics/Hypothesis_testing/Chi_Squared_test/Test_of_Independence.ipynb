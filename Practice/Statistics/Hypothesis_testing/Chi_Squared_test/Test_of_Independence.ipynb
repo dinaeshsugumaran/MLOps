{
 "cells": [
  {
   "cell_type": "code",
   "execution_count": 1,
   "id": "0268596e",
   "metadata": {},
   "outputs": [],
   "source": [
    "import scipy.stats as stats\n",
    "\n"
   ]
  },
  {
   "cell_type": "code",
   "execution_count": 2,
   "id": "fdd45070",
   "metadata": {},
   "outputs": [],
   "source": [
    "# Observed table\n",
    "observed = [[10, 15, 20],\n",
    "            [15, 25, 10],\n",
    "            [20, 15, 10]]"
   ]
  },
  {
   "cell_type": "code",
   "execution_count": 4,
   "id": "ff6fdc9b",
   "metadata": {},
   "outputs": [
    {
     "name": "stdout",
     "output_type": "stream",
     "text": [
      "Chi-Square Statistic: 11.729517396184063\n",
      "P-value: 0.01948017866537712\n",
      "Degrees of Freedom: 4\n",
      "Expected Frequencies:\n",
      "[[14.46428571 17.67857143 12.85714286]\n",
      " [16.07142857 19.64285714 14.28571429]\n",
      " [14.46428571 17.67857143 12.85714286]]\n"
     ]
    }
   ],
   "source": [
    "chi2, p, dof, expected = stats.chi2_contingency(observed)\n",
    "\n",
    "print(f\"Chi-Square Statistic: {chi2}\")\n",
    "print(f\"P-value: {p}\")\n",
    "print(f\"Degrees of Freedom: {dof}\")\n",
    "print(\"Expected Frequencies:\")\n",
    "print(expected)"
   ]
  }
 ],
 "metadata": {
  "kernelspec": {
   "display_name": "base",
   "language": "python",
   "name": "python3"
  },
  "language_info": {
   "codemirror_mode": {
    "name": "ipython",
    "version": 3
   },
   "file_extension": ".py",
   "mimetype": "text/x-python",
   "name": "python",
   "nbconvert_exporter": "python",
   "pygments_lexer": "ipython3",
   "version": "3.12.4"
  }
 },
 "nbformat": 4,
 "nbformat_minor": 5
}
