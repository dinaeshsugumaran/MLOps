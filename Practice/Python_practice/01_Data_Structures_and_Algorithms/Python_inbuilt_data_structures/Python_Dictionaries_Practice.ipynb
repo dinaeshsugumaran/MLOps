{
 "cells": [
  {
   "cell_type": "markdown",
   "id": "d6d1682c",
   "metadata": {},
   "source": [
    "# 📝 Python Dictionaries - Practice Problems"
   ]
  },
  {
   "cell_type": "markdown",
   "id": "bc8e6e8c",
   "metadata": {},
   "source": [
    "\n",
    "Welcome! This notebook contains **20 practice problems** on Python **dictionaries**.  \n",
    "Try solving them without looking up the answers. 🚀  \n",
    "\n",
    "### **Topics Covered:**\n",
    "✅ Creating dictionaries  \n",
    "✅ Accessing dictionary elements (with and without `get()`)  \n",
    "✅ Handling missing keys using `get()`  \n",
    "✅ Modifying dictionary elements (adding, updating, deleting)  \n",
    "✅ Dictionary methods (extracting keys, values, items)  \n",
    "✅ Shallow copy vs. `copy()` method  \n",
    "✅ Iterating over dictionaries (keys, values, items)  \n",
    "✅ Nested dictionaries (accessing, modifying, extracting, iterating)  \n",
    "✅ Dictionary comprehension  \n",
    "✅ Conditional dictionary comprehension  \n",
    "✅ Merging dictionaries  \n",
    "\n",
    "Let's get started! 🎯\n"
   ]
  },
  {
   "cell_type": "code",
   "execution_count": 5,
   "id": "9c2e4da6",
   "metadata": {},
   "outputs": [
    {
     "name": "stdout",
     "output_type": "stream",
     "text": [
      "{'name': 'dinaesh', 'age': 33, 'location': 'canada', 'address': 3010, 'bunny': 'yes'}\n",
      "<class 'dict'>\n"
     ]
    }
   ],
   "source": [
    "# 1️⃣ Create a dictionary with at least 5 key-value pairs.\n",
    "\n",
    "# Your code here\n",
    "\n",
    "first_dict = {\"name\":\"dinaesh\", \"age\":33, \"location\": \"canada\", \"address\":3010, \"bunny\": \"yes\"}\n",
    "print(first_dict)\n",
    "print(type(first_dict))"
   ]
  },
  {
   "cell_type": "code",
   "execution_count": 7,
   "id": "c42814c4",
   "metadata": {},
   "outputs": [
    {
     "name": "stdout",
     "output_type": "stream",
     "text": [
      "{}\n",
      "<class 'dict'>\n",
      "{}\n",
      "<class 'dict'>\n"
     ]
    }
   ],
   "source": [
    "# 2️⃣ Create an empty dictionary and verify its type.\n",
    "empty_dict = {}\n",
    "print(empty_dict)\n",
    "print(type(empty_dict))\n",
    "\n",
    "empty_dict = dict()\n",
    "print(empty_dict)\n",
    "print(type(empty_dict))\n",
    "# Your code here"
   ]
  },
  {
   "cell_type": "code",
   "execution_count": 9,
   "id": "bb480edb",
   "metadata": {},
   "outputs": [
    {
     "name": "stdout",
     "output_type": "stream",
     "text": [
      "{'name': 'Alice', 'age': 25, 'city': 'New York'}\n",
      "Alice\n",
      "<class 'str'>\n"
     ]
    }
   ],
   "source": [
    "# 3️⃣ Access the value of key `'name'` from `{ 'name': 'Alice', 'age': 25, 'city': 'New York' }`.\n",
    "\n",
    "# Your code here\n",
    "\n",
    "another_dict = { 'name': 'Alice', 'age': 25, 'city': 'New York' }\n",
    "print(another_dict)\n",
    "print(another_dict[\"name\"])\n",
    "print(type(another_dict[\"name\"]))"
   ]
  },
  {
   "cell_type": "code",
   "execution_count": 15,
   "id": "9d6c6c13",
   "metadata": {},
   "outputs": [
    {
     "name": "stdout",
     "output_type": "stream",
     "text": [
      "{'name': 'Alice', 'age': 25, 'city': 'New York'}\n",
      "Alice\n",
      "<class 'str'>\n",
      "25\n",
      "N/A\n"
     ]
    }
   ],
   "source": [
    "# 4️⃣ Access a key that does not exist using `get()` and handle it gracefully.\n",
    "\n",
    "# Your code here\n",
    "\n",
    "another_dict = { 'name': 'Alice', 'age': 25, 'city': 'New York' }\n",
    "print(another_dict)\n",
    "print(another_dict[\"name\"])\n",
    "print(type(another_dict[\"name\"]))\n",
    "\n",
    "\n",
    "#print(another_dict[\"names\"]) #this will through error, as this key is not there.\n",
    "\n",
    "print(another_dict.get(\"age\"))\n",
    "print(another_dict.get(\"names\", \"N/A\"))\n",
    "\n",
    "\n",
    "#print(another_dict[\"names\"])"
   ]
  },
  {
   "cell_type": "code",
   "execution_count": 24,
   "id": "532164e1",
   "metadata": {},
   "outputs": [
    {
     "name": "stdout",
     "output_type": "stream",
     "text": [
      "{'name': 'Alice', 'age': 25}\n",
      "{'name': 'Alice', 'age': 25, 'gender': 'Female'}\n"
     ]
    }
   ],
   "source": [
    "# 5️⃣ Add a new key-value pair `'gender': 'Female'` to `{ 'name': 'Alice', 'age': 25 }`.\n",
    "\n",
    "# Your code here\n",
    "second_dict = { 'name': 'Alice', 'age': 25 }\n",
    "print(second_dict)\n",
    "\n",
    "second_dict['gender']='Female'\n",
    "print(second_dict)\n"
   ]
  },
  {
   "cell_type": "code",
   "execution_count": 26,
   "id": "858756bb",
   "metadata": {},
   "outputs": [
    {
     "name": "stdout",
     "output_type": "stream",
     "text": [
      "{'name': 'Alice', 'age': 25}\n",
      "{'name': 'Alice', 'age': 30}\n"
     ]
    }
   ],
   "source": [
    "# 6️⃣ Update the age in `{ 'name': 'Alice', 'age': 25 }` to 30.\n",
    "\n",
    "# Your code here\n",
    "\n",
    "third_dict = { 'name': 'Alice', 'age': 25 }\n",
    "print(third_dict)\n",
    "\n",
    "third_dict['age'] = 30\n",
    "print(third_dict)"
   ]
  },
  {
   "cell_type": "code",
   "execution_count": 29,
   "id": "b3ba94a2",
   "metadata": {},
   "outputs": [
    {
     "name": "stdout",
     "output_type": "stream",
     "text": [
      "{'name': 'Alice', 'age': 25}\n"
     ]
    }
   ],
   "source": [
    "# 7️⃣ Delete the key `'city'` from `{ 'name': 'Alice', 'age': 25, 'city': 'New York' }`.\n",
    "\n",
    "# Your code here\n",
    "\n",
    "fourth_dict = {'name': 'Alice', 'age': 25, 'city': 'New York'}\n",
    "fourth_dict.pop('city')\n",
    "print(fourth_dict)"
   ]
  },
  {
   "cell_type": "code",
   "execution_count": 31,
   "id": "6924dcde",
   "metadata": {},
   "outputs": [
    {
     "name": "stdout",
     "output_type": "stream",
     "text": [
      "dict_keys(['name', 'age', 'city'])\n"
     ]
    }
   ],
   "source": [
    "# 8️⃣ Extract and print all **keys** from `{ 'name': 'Alice', 'age': 25, 'city': 'New York' }`.\n",
    "\n",
    "# Your code here\n",
    "\n",
    "fourth_dict = {'name': 'Alice', 'age': 25, 'city': 'New York'}\n",
    "print(fourth_dict.keys())"
   ]
  },
  {
   "cell_type": "code",
   "execution_count": 98,
   "id": "71bcf13a",
   "metadata": {},
   "outputs": [
    {
     "name": "stdout",
     "output_type": "stream",
     "text": [
      "dict_values(['Alice', 25, 'New York'])\n"
     ]
    }
   ],
   "source": [
    "# 9️⃣ Extract and print all **values** from `{ 'name': 'Alice', 'age': 25, 'city': 'New York' }`.\n",
    "\n",
    "# Your code here\n",
    "fourth_dict = {'name': 'Alice', 'age': 25, 'city': 'New York'}\n",
    "print(fourth_dict.values())"
   ]
  },
  {
   "cell_type": "code",
   "execution_count": 34,
   "id": "62a79018",
   "metadata": {},
   "outputs": [
    {
     "name": "stdout",
     "output_type": "stream",
     "text": [
      "dict_items([('name', 'Alice'), ('age', 25), ('city', 'New York')])\n",
      "<class 'dict_items'>\n"
     ]
    }
   ],
   "source": [
    "# 🔟 Extract and print all **items** (key-value pairs) from `{ 'name': 'Alice', 'age': 25, 'city': 'New York' }`.\n",
    "\n",
    "# Your code here\n",
    "fourth_dict = {'name': 'Alice', 'age': 25, 'city': 'New York'}\n",
    "print(fourth_dict.items())\n",
    "print(type(fourth_dict.items()))"
   ]
  },
  {
   "cell_type": "code",
   "execution_count": 54,
   "id": "479eb44f",
   "metadata": {},
   "outputs": [
    {
     "name": "stdout",
     "output_type": "stream",
     "text": [
      "{'a': 1, 'b': 2}\n",
      "{'a': 1, 'b': 2}\n",
      "{'a': 1, 'b': 2}\n",
      "{'a': 1, 'b': 1}\n"
     ]
    }
   ],
   "source": [
    "# 1️⃣1️⃣ Create a shallow copy of `{ 'a': 1, 'b': 2 }` using `copy()` and modify the original. Observe what happens.\n",
    "\n",
    "dictn = { 'a': 1, 'b': 1 }\n",
    "dictn_2 = dictn\n",
    "dictn['b'] = 2\n",
    "print(dictn)\n",
    "print(dictn_2)\n",
    "\n",
    "dictn = { 'a': 1, 'b': 1 }\n",
    "dictn_2 = dictn.copy()\n",
    "dictn['b'] = 2\n",
    "print(dictn)\n",
    "print(dictn_2)"
   ]
  },
  {
   "cell_type": "code",
   "execution_count": 95,
   "id": "5b6ff7a3",
   "metadata": {},
   "outputs": [
    {
     "name": "stdout",
     "output_type": "stream",
     "text": [
      "<class 'str'>\n",
      "<class 'str'>\n",
      "<class 'str'>\n"
     ]
    }
   ],
   "source": [
    "# 1️⃣2️⃣ Iterate over a dictionary `{ 'a': 1, 'b': 2, 'c': 3 }` and print only **keys**.\n",
    "\n",
    "# Your code here\n",
    "\n",
    "dictn = { 'a': 1, 'b': 2, 'c': 3 }\n",
    "\n",
    "for keys in dictn.keys():\n",
    "    print(type(keys))"
   ]
  },
  {
   "cell_type": "code",
   "execution_count": 56,
   "id": "5fcdcb13",
   "metadata": {},
   "outputs": [
    {
     "name": "stdout",
     "output_type": "stream",
     "text": [
      "1\n",
      "2\n",
      "3\n"
     ]
    }
   ],
   "source": [
    "# 1️⃣3️⃣ Iterate over a dictionary `{ 'a': 1, 'b': 2, 'c': 3 }` and print only **values**.\n",
    "\n",
    "# Your code here\n",
    "\n",
    "\n",
    "dictn = { 'a': 1, 'b': 2, 'c': 3 }\n",
    "\n",
    "for keys in dictn.values():\n",
    "    print(keys)"
   ]
  },
  {
   "cell_type": "code",
   "execution_count": 57,
   "id": "d3d02130",
   "metadata": {},
   "outputs": [
    {
     "name": "stdout",
     "output_type": "stream",
     "text": [
      "a 1\n",
      "b 2\n",
      "c 3\n"
     ]
    }
   ],
   "source": [
    "# 1️⃣4️⃣ Iterate over a dictionary `{ 'a': 1, 'b': 2, 'c': 3 }` and print **both keys and values**.\n",
    "\n",
    "# Your code here\n",
    "dictn = { 'a': 1, 'b': 2, 'c': 3 }\n",
    "\n",
    "for keys,values in dictn.items():\n",
    "    print(keys,values)"
   ]
  },
  {
   "cell_type": "code",
   "execution_count": 58,
   "id": "e5095019",
   "metadata": {},
   "outputs": [
    {
     "name": "stdout",
     "output_type": "stream",
     "text": [
      "{'dinaesh': {'math': 99, 'science': 99}, 'tram': {'math': 100, 'science': 100}}\n",
      "<class 'dict'>\n"
     ]
    }
   ],
   "source": [
    "# 1️⃣5️⃣ Create a nested dictionary representing students with their subjects and scores.\n",
    "\n",
    "# Your code here\n",
    "\n",
    "students = {\"dinaesh\":{\"math\":99,\"science\":99},\"tram\":{\"math\":100,\"science\":100},}\n",
    "print(students)\n",
    "print(type(students))"
   ]
  },
  {
   "cell_type": "code",
   "execution_count": 60,
   "id": "675067ac",
   "metadata": {},
   "outputs": [
    {
     "name": "stdout",
     "output_type": "stream",
     "text": [
      "99\n",
      "<class 'int'>\n"
     ]
    }
   ],
   "source": [
    "# 1️⃣6️⃣ Access a specific subject's score from a nested dictionary.\n",
    "\n",
    "# Your code here\n",
    "\n",
    "students = {\"dinaesh\":{\"math\":99,\"science\":99},\"tram\":{\"math\":100,\"science\":100},}\n",
    "print(students[\"dinaesh\"][\"math\"])\n",
    "print(type(students[\"dinaesh\"][\"math\"]))"
   ]
  },
  {
   "cell_type": "code",
   "execution_count": 62,
   "id": "6991ebfa",
   "metadata": {},
   "outputs": [
    {
     "name": "stdout",
     "output_type": "stream",
     "text": [
      "{'dinaesh': {'math': 100, 'science': 99}, 'tram': {'math': 100, 'science': 100}}\n",
      "100\n"
     ]
    }
   ],
   "source": [
    "# 1️⃣7️⃣ Modify a value inside a nested dictionary.\n",
    "\n",
    "# Your code here\n",
    "\n",
    "students = {\"dinaesh\":{\"math\":99,\"science\":99},\"tram\":{\"math\":100,\"science\":100},}\n",
    "students[\"dinaesh\"][\"math\"] = 100\n",
    "print(students)\n",
    "print(students[\"dinaesh\"][\"math\"])"
   ]
  },
  {
   "cell_type": "code",
   "execution_count": 78,
   "id": "b55f2fea",
   "metadata": {},
   "outputs": [
    {
     "name": "stdout",
     "output_type": "stream",
     "text": [
      "{'a': 1, 'b': 2, 'c': 3}\n"
     ]
    }
   ],
   "source": [
    "# 1️⃣8️⃣ Use dictionary comprehension to create `{ 'a': 1, 'b': 2, 'c': 3 }` from a list `['a', 'b', 'c']` with values as their index+1.\n",
    "lst = ['a', 'b', 'c']\n",
    "\n",
    "dicn = {x:index+1 for index,x in enumerate(lst)}\n",
    "print(dicn)\n",
    "# Your code here"
   ]
  },
  {
   "cell_type": "code",
   "execution_count": 88,
   "id": "7a8a4075",
   "metadata": {},
   "outputs": [
    {
     "name": "stdout",
     "output_type": "stream",
     "text": [
      "{'b': 3, 'c': 4}\n"
     ]
    }
   ],
   "source": [
    "# 1️⃣9️⃣ Use conditional dictionary comprehension to keep only keys with values greater than 2 from `{ 'a': 1, 'b': 3, 'c': 4 }`.\n",
    "\n",
    "# Your code here\n",
    "ori_dic = { 'a': 1, 'b': 3, 'c': 4 }\n",
    "dicn ={key:val for key,val in ori_dic.items() if val>2}\n",
    "print(dicn)"
   ]
  },
  {
   "cell_type": "code",
   "execution_count": 94,
   "id": "6e433c51",
   "metadata": {},
   "outputs": [
    {
     "name": "stdout",
     "output_type": "stream",
     "text": [
      "{'a': 1, 'b': 3, 'c': 4}\n"
     ]
    }
   ],
   "source": [
    "# 2️⃣0️⃣ Merge `{ 'a': 1, 'b': 2 }` and `{ 'b': 3, 'c': 4 }` into a single dictionary.\n",
    "\n",
    "# Your code here\n",
    "\n",
    "dicn_1 = { 'a': 1, 'b': 2 }\n",
    "dicn_2 = { 'b': 3, 'c': 4 }\n",
    "\n",
    "merged_dict = {**dicn_1, **dicn_2}\n",
    "print(merged_dict)\n"
   ]
  }
 ],
 "metadata": {
  "kernelspec": {
   "display_name": "base",
   "language": "python",
   "name": "python3"
  },
  "language_info": {
   "codemirror_mode": {
    "name": "ipython",
    "version": 3
   },
   "file_extension": ".py",
   "mimetype": "text/x-python",
   "name": "python",
   "nbconvert_exporter": "python",
   "pygments_lexer": "ipython3",
   "version": "3.12.4"
  }
 },
 "nbformat": 4,
 "nbformat_minor": 5
}
