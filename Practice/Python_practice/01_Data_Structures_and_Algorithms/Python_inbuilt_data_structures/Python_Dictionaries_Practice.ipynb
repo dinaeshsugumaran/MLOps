{
 "cells": [
  {
   "cell_type": "markdown",
   "id": "d6d1682c",
   "metadata": {},
   "source": [
    "# 📝 Python Dictionaries - Practice Problems"
   ]
  },
  {
   "cell_type": "markdown",
   "id": "bc8e6e8c",
   "metadata": {},
   "source": [
    "\n",
    "Welcome! This notebook contains **20 practice problems** on Python **dictionaries**.  \n",
    "Try solving them without looking up the answers. 🚀  \n",
    "\n",
    "### **Topics Covered:**\n",
    "✅ Creating dictionaries  \n",
    "✅ Accessing dictionary elements (with and without `get()`)  \n",
    "✅ Handling missing keys using `get()`  \n",
    "✅ Modifying dictionary elements (adding, updating, deleting)  \n",
    "✅ Dictionary methods (extracting keys, values, items)  \n",
    "✅ Shallow copy vs. `copy()` method  \n",
    "✅ Iterating over dictionaries (keys, values, items)  \n",
    "✅ Nested dictionaries (accessing, modifying, extracting, iterating)  \n",
    "✅ Dictionary comprehension  \n",
    "✅ Conditional dictionary comprehension  \n",
    "✅ Merging dictionaries  \n",
    "\n",
    "Let's get started! 🎯\n"
   ]
  },
  {
   "cell_type": "code",
   "execution_count": null,
   "id": "9c2e4da6",
   "metadata": {},
   "outputs": [],
   "source": [
    "# 1️⃣ Create a dictionary with at least 5 key-value pairs.\n",
    "\n",
    "# Your code here"
   ]
  },
  {
   "cell_type": "code",
   "execution_count": null,
   "id": "c42814c4",
   "metadata": {},
   "outputs": [],
   "source": [
    "# 2️⃣ Create an empty dictionary and verify its type.\n",
    "\n",
    "# Your code here"
   ]
  },
  {
   "cell_type": "code",
   "execution_count": null,
   "id": "bb480edb",
   "metadata": {},
   "outputs": [],
   "source": [
    "# 3️⃣ Access the value of key `'name'` from `{ 'name': 'Alice', 'age': 25, 'city': 'New York' }`.\n",
    "\n",
    "# Your code here"
   ]
  },
  {
   "cell_type": "code",
   "execution_count": null,
   "id": "9d6c6c13",
   "metadata": {},
   "outputs": [],
   "source": [
    "# 4️⃣ Access a key that does not exist using `get()` and handle it gracefully.\n",
    "\n",
    "# Your code here"
   ]
  },
  {
   "cell_type": "code",
   "execution_count": null,
   "id": "532164e1",
   "metadata": {},
   "outputs": [],
   "source": [
    "# 5️⃣ Add a new key-value pair `'gender': 'Female'` to `{ 'name': 'Alice', 'age': 25 }`.\n",
    "\n",
    "# Your code here"
   ]
  },
  {
   "cell_type": "code",
   "execution_count": null,
   "id": "858756bb",
   "metadata": {},
   "outputs": [],
   "source": [
    "# 6️⃣ Update the age in `{ 'name': 'Alice', 'age': 25 }` to 30.\n",
    "\n",
    "# Your code here"
   ]
  },
  {
   "cell_type": "code",
   "execution_count": null,
   "id": "b3ba94a2",
   "metadata": {},
   "outputs": [],
   "source": [
    "# 7️⃣ Delete the key `'city'` from `{ 'name': 'Alice', 'age': 25, 'city': 'New York' }`.\n",
    "\n",
    "# Your code here"
   ]
  },
  {
   "cell_type": "code",
   "execution_count": null,
   "id": "6924dcde",
   "metadata": {},
   "outputs": [],
   "source": [
    "# 8️⃣ Extract and print all **keys** from `{ 'name': 'Alice', 'age': 25, 'city': 'New York' }`.\n",
    "\n",
    "# Your code here"
   ]
  },
  {
   "cell_type": "code",
   "execution_count": null,
   "id": "71bcf13a",
   "metadata": {},
   "outputs": [],
   "source": [
    "# 9️⃣ Extract and print all **values** from `{ 'name': 'Alice', 'age': 25, 'city': 'New York' }`.\n",
    "\n",
    "# Your code here"
   ]
  },
  {
   "cell_type": "code",
   "execution_count": null,
   "id": "62a79018",
   "metadata": {},
   "outputs": [],
   "source": [
    "# 🔟 Extract and print all **items** (key-value pairs) from `{ 'name': 'Alice', 'age': 25, 'city': 'New York' }`.\n",
    "\n",
    "# Your code here"
   ]
  },
  {
   "cell_type": "code",
   "execution_count": null,
   "id": "479eb44f",
   "metadata": {},
   "outputs": [],
   "source": [
    "# 1️⃣1️⃣ Create a shallow copy of `{ 'a': 1, 'b': 2 }` using `copy()` and modify the original. Observe what happens.\n",
    "\n",
    "# Your code here"
   ]
  },
  {
   "cell_type": "code",
   "execution_count": null,
   "id": "5b6ff7a3",
   "metadata": {},
   "outputs": [],
   "source": [
    "# 1️⃣2️⃣ Iterate over a dictionary `{ 'a': 1, 'b': 2, 'c': 3 }` and print only **keys**.\n",
    "\n",
    "# Your code here"
   ]
  },
  {
   "cell_type": "code",
   "execution_count": null,
   "id": "5fcdcb13",
   "metadata": {},
   "outputs": [],
   "source": [
    "# 1️⃣3️⃣ Iterate over a dictionary `{ 'a': 1, 'b': 2, 'c': 3 }` and print only **values**.\n",
    "\n",
    "# Your code here"
   ]
  },
  {
   "cell_type": "code",
   "execution_count": null,
   "id": "d3d02130",
   "metadata": {},
   "outputs": [],
   "source": [
    "# 1️⃣4️⃣ Iterate over a dictionary `{ 'a': 1, 'b': 2, 'c': 3 }` and print **both keys and values**.\n",
    "\n",
    "# Your code here"
   ]
  },
  {
   "cell_type": "code",
   "execution_count": null,
   "id": "e5095019",
   "metadata": {},
   "outputs": [],
   "source": [
    "# 1️⃣5️⃣ Create a nested dictionary representing students with their subjects and scores.\n",
    "\n",
    "# Your code here"
   ]
  },
  {
   "cell_type": "code",
   "execution_count": null,
   "id": "675067ac",
   "metadata": {},
   "outputs": [],
   "source": [
    "# 1️⃣6️⃣ Access a specific subject's score from a nested dictionary.\n",
    "\n",
    "# Your code here"
   ]
  },
  {
   "cell_type": "code",
   "execution_count": null,
   "id": "6991ebfa",
   "metadata": {},
   "outputs": [],
   "source": [
    "# 1️⃣7️⃣ Modify a value inside a nested dictionary.\n",
    "\n",
    "# Your code here"
   ]
  },
  {
   "cell_type": "code",
   "execution_count": null,
   "id": "b55f2fea",
   "metadata": {},
   "outputs": [],
   "source": [
    "# 1️⃣8️⃣ Use dictionary comprehension to create `{ 'a': 1, 'b': 2, 'c': 3 }` from a list `['a', 'b', 'c']` with values as their index+1.\n",
    "\n",
    "# Your code here"
   ]
  },
  {
   "cell_type": "code",
   "execution_count": null,
   "id": "7a8a4075",
   "metadata": {},
   "outputs": [],
   "source": [
    "# 1️⃣9️⃣ Use conditional dictionary comprehension to keep only keys with values greater than 2 from `{ 'a': 1, 'b': 3, 'c': 4 }`.\n",
    "\n",
    "# Your code here"
   ]
  },
  {
   "cell_type": "code",
   "execution_count": null,
   "id": "6e433c51",
   "metadata": {},
   "outputs": [],
   "source": [
    "# 2️⃣0️⃣ Merge `{ 'a': 1, 'b': 2 }` and `{ 'b': 3, 'c': 4 }` into a single dictionary.\n",
    "\n",
    "# Your code here"
   ]
  }
 ],
 "metadata": {},
 "nbformat": 4,
 "nbformat_minor": 5
}