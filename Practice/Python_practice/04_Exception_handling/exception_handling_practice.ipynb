{
 "cells": [
  {
   "cell_type": "markdown",
   "metadata": {},
   "source": [
    "# Exception Handling Practice\n",
    "\n",
    "This notebook contains practice problems for handling common Python exceptions like:\n",
    "- **ZeroDivisionError**\n",
    "- **FileNotFoundError**\n",
    "- **ValueError**\n",
    "- **TypeError**\n",
    "\n",
    "Each problem requires you to use `try-except` blocks to handle exceptions gracefully."
   ]
  },
  {
   "cell_type": "markdown",
   "metadata": {},
   "source": [
    "## Problem 1: Handling ZeroDivisionError\n",
    "**Task:** Write a function `safe_divide(a, b)` that takes two numbers and returns their division. If a division by zero occurs, catch the `ZeroDivisionError` and return `'Cannot divide by zero'`."
   ]
  },
  {
   "cell_type": "code",
   "execution_count": 9,
   "metadata": {},
   "outputs": [
    {
     "name": "stdout",
     "output_type": "stream",
     "text": [
      "5.0\n",
      "Cannot divide by zero\n"
     ]
    }
   ],
   "source": [
    "# Your Code Here\n",
    "def safe_divide(a, b): # Implement exception handling for ZeroDivisionError\n",
    "    try:\n",
    "        return a/b\n",
    "    except ZeroDivisionError as e:\n",
    "        return 'Cannot divide by zero'\n",
    "\n",
    "# Test Cases\n",
    "print(safe_divide(10, 2))  # Expected: 5.0\n",
    "print(safe_divide(5, 0))   # Expected: 'Cannot divide by zero'"
   ]
  },
  {
   "cell_type": "markdown",
   "metadata": {},
   "source": [
    "## Problem 2: Handling FileNotFoundError\n",
    "**Task:** Write a function `read_file(filename)` that tries to open and read a file. If the file does not exist, catch the `FileNotFoundError` and return `'File not found'`."
   ]
  },
  {
   "cell_type": "code",
   "execution_count": 10,
   "metadata": {},
   "outputs": [
    {
     "name": "stdout",
     "output_type": "stream",
     "text": [
      "File not found\n"
     ]
    }
   ],
   "source": [
    "# Your Code Here\n",
    "def read_file(filename):\n",
    "    try:\n",
    "        f = open('non_existent_file.txt')\n",
    "    except FileNotFoundError as e:\n",
    "        return 'File not found' # Implement exception handling for FileNotFoundError\n",
    "\n",
    "# Test Case\n",
    "print(read_file('non_existent_file.txt'))  # Expected: 'File not found'"
   ]
  },
  {
   "cell_type": "markdown",
   "metadata": {},
   "source": [
    "## Problem 3: Handling ValueError\n",
    "**Task:** Write a function `convert_to_int(value)` that converts a string to an integer. If a `ValueError` occurs (e.g., non-numeric input), catch it and return `'Invalid input'`."
   ]
  },
  {
   "cell_type": "code",
   "execution_count": 17,
   "metadata": {},
   "outputs": [
    {
     "name": "stdout",
     "output_type": "stream",
     "text": [
      "42\n",
      "Invalid input\n"
     ]
    }
   ],
   "source": [
    "# Your Code Here\n",
    "def convert_to_int(value): # Implement exception handling for ValueError\n",
    "    try:\n",
    "        return int(value)\n",
    "    except:\n",
    "        return 'Invalid input'\n",
    "# Test Cases\n",
    "print(convert_to_int('42'))  # Expected: 42\n",
    "print(convert_to_int('abc')) # Expected: 'Invalid input'"
   ]
  },
  {
   "cell_type": "markdown",
   "metadata": {},
   "source": [
    "## Problem 4: Handling TypeError\n",
    "**Task:** Write a function `add_numbers(a, b)` that takes two numbers and returns their sum. If a `TypeError` occurs (e.g., passing a string instead of a number), catch it and return `'Invalid types'`."
   ]
  },
  {
   "cell_type": "code",
   "execution_count": null,
   "metadata": {},
   "outputs": [
    {
     "name": "stdout",
     "output_type": "stream",
     "text": [
      "8\n",
      "Invalid types\n"
     ]
    }
   ],
   "source": [
    "# Your Code Here\n",
    "def add_numbers(a, b): # Implement exception handling for TypeError\n",
    "    try:\n",
    "        return a+b\n",
    "    except:\n",
    "        return 'Invalid types'\n",
    "\n",
    "# Test Cases\n",
    "print(add_numbers(3, 5))    # Expected: 8\n",
    "print(add_numbers(3, 'a'))  # Expected: 'Invalid types'"
   ]
  },
  {
   "cell_type": "markdown",
   "metadata": {},
   "source": [
    "## Problem 5: Handling Multiple Exceptions\n",
    "**Task:** Write a function `process_input(value, filename)` that:\n",
    "- Converts `value` to an integer (handles `ValueError`)\n",
    "- Reads from `filename` (handles `FileNotFoundError`)\n",
    "- Returns `'Success'` if no exceptions occur.\n",
    "\n",
    "Use multiple `except` blocks to handle different exceptions separately."
   ]
  },
  {
   "cell_type": "code",
   "execution_count": 27,
   "metadata": {},
   "outputs": [
    {
     "name": "stdout",
     "output_type": "stream",
     "text": [
      "Error: File not found\n",
      "Error: File not found\n"
     ]
    }
   ],
   "source": [
    "# Your Code Here\n",
    "def process_input(value, filename):\n",
    "    try:\n",
    "        f = open(filename)\n",
    "        intgr =  int(value)\n",
    "        return 'success'\n",
    "    except FileNotFoundError:\n",
    "        return 'Error: File not found'\n",
    "    except ValueError:\n",
    "        return 'Error: Invalid integer input'\n",
    "\n",
    "# Test Cases\n",
    "print(process_input('42', 'test.txt'))  # Expected: 'Success' or 'File not found'\n",
    "print(process_input('abc', 'test.txt')) # Expected: 'Invalid input'"
   ]
  },
  {
   "cell_type": "markdown",
   "metadata": {},
   "source": [
    "## Handling IndexError\n",
    "\n",
    "**Task:** Write a function `get_element(lst, index)` that returns the element at `index` from `lst`. If the index is out of range, catch the `IndexError` and return `'Index out of range'`."
   ]
  },
  {
   "cell_type": "code",
   "execution_count": 29,
   "metadata": {},
   "outputs": [
    {
     "name": "stdout",
     "output_type": "stream",
     "text": [
      "2\n",
      "Index out of range\n"
     ]
    }
   ],
   "source": [
    "def get_element(lst, index):\n",
    "    try:\n",
    "        out = lst[index]\n",
    "        return out\n",
    "    except IndexError:\n",
    "        return 'Index out of range'\n",
    "\n",
    "# Test Cases\n",
    "print(get_element([1, 2, 3], 1))  # Expected: 2\n",
    "print(get_element([1, 2, 3], 5))  # Expected: 'Index out of range'"
   ]
  },
  {
   "cell_type": "markdown",
   "metadata": {},
   "source": [
    "## Handling KeyError\n",
    "\n",
    "**Task:** Write a function `get_value(dictionary, key)` that returns the value for `key` in `dictionary`. If the key doesn’t exist, catch the `KeyError` and return `'Key not found'`."
   ]
  },
  {
   "cell_type": "code",
   "execution_count": null,
   "metadata": {},
   "outputs": [],
   "source": [
    "def get_value(dictionary, key):\n",
    "    pass  # Implement exception handling for KeyError\n",
    "\n",
    "# Test Cases\n",
    "print(get_value({'a': 1, 'b': 2}, 'a'))  # Expected: 1\n",
    "print(get_value({'a': 1, 'b': 2}, 'c'))  # Expected: 'Key not found'"
   ]
  },
  {
   "cell_type": "markdown",
   "metadata": {},
   "source": [
    "## Handling AttributeError\n",
    "\n",
    "**Task:** Write a function `call_method(obj, method_name)` that tries to call `method_name` on `obj`. If `obj` does not have that method, catch the `AttributeError` and return `'Method not found'`."
   ]
  },
  {
   "cell_type": "code",
   "execution_count": null,
   "metadata": {},
   "outputs": [],
   "source": [
    "class Sample:\n",
    "    def hello(self):\n",
    "        return 'Hello!'\n",
    "\n",
    "def call_method(obj, method_name):\n",
    "    pass  # Implement exception handling for AttributeError\n",
    "\n",
    "# Test Cases\n",
    "s = Sample()\n",
    "print(call_method(s, 'hello'))  # Expected: 'Hello!'\n",
    "print(call_method(s, 'bye'))    # Expected: 'Method not found'"
   ]
  },
  {
   "cell_type": "markdown",
   "metadata": {},
   "source": [
    "## Handling RecursionError\n",
    "\n",
    "**Task:** Write a recursive function `cause_recursion(n)` that calls itself indefinitely if `n > 0`. Use exception handling to catch `RecursionError` and return `'Recursion limit reached'`."
   ]
  },
  {
   "cell_type": "code",
   "execution_count": null,
   "metadata": {},
   "outputs": [],
   "source": [
    "def cause_recursion(n):\n",
    "    pass  # Implement exception handling for RecursionError\n",
    "\n",
    "# Test Case\n",
    "print(cause_recursion(1))  # Expected: 'Recursion limit reached'"
   ]
  },
  {
   "cell_type": "markdown",
   "metadata": {},
   "source": [
    "## Handling MemoryError\n",
    "\n",
    "**Task:** Write a function `allocate_large_list(size)` that tries to create a very large list of size `size`. Catch `MemoryError` if the system runs out of memory and return `'Memory limit exceeded'`."
   ]
  },
  {
   "cell_type": "code",
   "execution_count": null,
   "metadata": {},
   "outputs": [],
   "source": [
    "def allocate_large_list(size):\n",
    "    pass  # Implement exception handling for MemoryError\n",
    "\n",
    "# Test Case\n",
    "print(allocate_large_list(10**9))  # Expected: 'Memory limit exceeded'"
   ]
  },
  {
   "cell_type": "markdown",
   "metadata": {},
   "source": [
    "## Handling SystemExit\n",
    "\n",
    "**Task:** Write a function `exit_program()` that calls `sys.exit()`. Catch `SystemExit` and return `'Exit prevented'`."
   ]
  },
  {
   "cell_type": "code",
   "execution_count": null,
   "metadata": {},
   "outputs": [],
   "source": [
    "import sys\n",
    "\n",
    "def exit_program():\n",
    "    pass  # Implement exception handling for SystemExit\n",
    "\n",
    "# Test Case\n",
    "print(exit_program())  # Expected: 'Exit prevented'"
   ]
  },
  {
   "cell_type": "markdown",
   "metadata": {},
   "source": [
    "## Handling UnicodeDecodeError\n",
    "\n",
    "**Task:** Write a function `read_non_utf8_file(filename)` that tries to read a file with an incorrect encoding. Catch `UnicodeDecodeError` and return `'Decoding error occurred'`."
   ]
  },
  {
   "cell_type": "code",
   "execution_count": null,
   "metadata": {},
   "outputs": [],
   "source": [
    "def read_non_utf8_file(filename):\n",
    "    pass  # Implement exception handling for UnicodeDecodeError\n",
    "\n",
    "# Test Case\n",
    "print(read_non_utf8_file('non_utf8.txt'))  # Expected: 'Decoding error occurred'"
   ]
  },
  {
   "cell_type": "markdown",
   "metadata": {},
   "source": [
    "## Handling IOError\n",
    "\n",
    "**Task:** Write a function `write_to_readonly_file(filename, content)` that tries to write to a read-only file. Catch `IOError` and return `'Write operation failed'`."
   ]
  },
  {
   "cell_type": "code",
   "execution_count": null,
   "metadata": {},
   "outputs": [],
   "source": [
    "def write_to_readonly_file(filename, content):\n",
    "    pass  # Implement exception handling for IOError\n",
    "\n",
    "# Test Case\n",
    "print(write_to_readonly_file('readonly.txt', 'Test'))  # Expected: 'Write operation failed'"
   ]
  },
  {
   "cell_type": "markdown",
   "metadata": {},
   "source": [
    "## Handling KeyboardInterrupt\n",
    "\n",
    "**Task:** Write a function `handle_interrupt()` that runs an infinite loop and catches `KeyboardInterrupt`, returning `'Process interrupted'`."
   ]
  },
  {
   "cell_type": "code",
   "execution_count": null,
   "metadata": {},
   "outputs": [],
   "source": [
    "def handle_interrupt():\n",
    "    pass  # Implement exception handling for KeyboardInterrupt\n",
    "\n",
    "# Uncomment to test\n",
    "# print(handle_interrupt())  # Expected: 'Process interrupted'"
   ]
  }
 ],
 "metadata": {
  "kernelspec": {
   "display_name": "base",
   "language": "python",
   "name": "python3"
  },
  "language_info": {
   "codemirror_mode": {
    "name": "ipython",
    "version": 3
   },
   "file_extension": ".py",
   "mimetype": "text/x-python",
   "name": "python",
   "nbconvert_exporter": "python",
   "pygments_lexer": "ipython3",
   "version": "3.12.4"
  }
 },
 "nbformat": 4,
 "nbformat_minor": 4
}
