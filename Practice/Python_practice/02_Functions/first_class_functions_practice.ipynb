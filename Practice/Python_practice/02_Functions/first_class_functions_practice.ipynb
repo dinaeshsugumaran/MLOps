{
 "cells": [
  {
   "cell_type": "markdown",
   "id": "58f8b493",
   "metadata": {},
   "source": [
    "1. Assign a function that prints 'Hello, World!' to a variable and call it using that variable."
   ]
  },
  {
   "cell_type": "code",
   "execution_count": 1,
   "id": "81cc0887",
   "metadata": {},
   "outputs": [],
   "source": [
    "def hello():\n",
    "    return 'hello world'"
   ]
  },
  {
   "cell_type": "code",
   "execution_count": 7,
   "id": "ce61a29c",
   "metadata": {},
   "outputs": [
    {
     "data": {
      "text/plain": [
       "'hello world'"
      ]
     },
     "execution_count": 7,
     "metadata": {},
     "output_type": "execute_result"
    }
   ],
   "source": [
    "out = hello\n",
    "out()"
   ]
  },
  {
   "cell_type": "markdown",
   "id": "c31cae61",
   "metadata": {},
   "source": [
    "2. Pass a function that adds two numbers as an argument to another function that multiplies the result by 10."
   ]
  },
  {
   "cell_type": "code",
   "execution_count": 21,
   "id": "f6e0224a",
   "metadata": {},
   "outputs": [],
   "source": [
    "def function_sum(a,b):\n",
    "    return a+b\n",
    "def function_mul(func,a,b):\n",
    "    c = func(a,b)\n",
    "    return c*10"
   ]
  },
  {
   "cell_type": "code",
   "execution_count": 23,
   "id": "634fc941",
   "metadata": {},
   "outputs": [
    {
     "data": {
      "text/plain": [
       "40"
      ]
     },
     "execution_count": 23,
     "metadata": {},
     "output_type": "execute_result"
    }
   ],
   "source": [
    "out = function_mul(function_sum,2,2)\n",
    "out"
   ]
  },
  {
   "cell_type": "markdown",
   "id": "6fa45a96",
   "metadata": {},
   "source": [
    "3. Write a function that returns another function which adds two numbers. Then, call this returned function to add 5 and 10."
   ]
  },
  {
   "cell_type": "markdown",
   "id": "1c75ecb3",
   "metadata": {},
   "source": [
    "4. Store a function that checks if a number is even or odd in a list. Call this function from the list with an argument."
   ]
  },
  {
   "cell_type": "markdown",
   "id": "c33458f2",
   "metadata": {},
   "source": [
    "5. Create a function that takes a string and returns the string in uppercase. Store this function in a dictionary with a key 'uppercase'. Call this function from the dictionary with a string input."
   ]
  },
  {
   "cell_type": "markdown",
   "id": "40a3e273",
   "metadata": {},
   "source": [
    "6. Define a function `square` that returns the square of a number. Assign it to a variable `func` and call it with an argument of 7."
   ]
  },
  {
   "cell_type": "markdown",
   "id": "58ffbe8d",
   "metadata": {},
   "source": [
    "7. Create a function `calculate` that takes two numbers and returns their sum, difference, and product as a tuple. Pass this function as an argument to another function `display_results` that prints the results."
   ]
  },
  {
   "cell_type": "markdown",
   "id": "8a68d4e5",
   "metadata": {},
   "source": [
    "8. Define a function `multiply` that multiplies a number by 3 and returns the result. Return this function inside another function `double` and call the result of `double(5)`."
   ]
  },
  {
   "cell_type": "markdown",
   "id": "ebd95d66",
   "metadata": {},
   "source": [
    "9. Create a function `outer` that returns a function `inner`. Have `inner` return a string 'inner function called'. Call the inner function via the outer function."
   ]
  },
  {
   "cell_type": "markdown",
   "id": "24c62bfb",
   "metadata": {},
   "source": [
    "10. Store two different functions (one that adds 10 to a number and one that subtracts 5 from a number) in a dictionary. Call both functions with a number from the dictionary."
   ]
  },
  {
   "cell_type": "markdown",
   "id": "0a5e5b53",
   "metadata": {},
   "source": [
    "11. Write a higher-order function `apply_func` that takes a function and a list of numbers, then applies the function to each number in the list and returns the results."
   ]
  },
  {
   "cell_type": "markdown",
   "id": "2fb69239",
   "metadata": {},
   "source": [
    "12. Define a lambda function that calculates the square of a number. Store this lambda in a variable and call it with the number 4."
   ]
  },
  {
   "cell_type": "markdown",
   "id": "2e4cc3df",
   "metadata": {},
   "source": [
    "13. Create a function `operate` that takes a function (like addition, subtraction, etc.) and two numbers as arguments, applies the function to those numbers, and returns the result."
   ]
  },
  {
   "cell_type": "markdown",
   "id": "02203a23",
   "metadata": {},
   "source": [
    "14. Store a function that checks for a palindrome in a list and call it with the string 'radar'."
   ]
  },
  {
   "cell_type": "markdown",
   "id": "3b20e145",
   "metadata": {},
   "source": [
    "15. Write a function that accepts a function as an argument and returns a modified version of that function. The returned function should subtract 3 from the result of the input function."
   ]
  },
  {
   "cell_type": "markdown",
   "id": "8f07ccee",
   "metadata": {},
   "source": [
    "16. Store a function `double` in a set and call it to double the number 6."
   ]
  },
  {
   "cell_type": "markdown",
   "id": "d407eaf3",
   "metadata": {},
   "source": [
    "17. Write a function `greater_than_five` that checks if a number is greater than 5. Use it in a filter function to filter a list of numbers."
   ]
  },
  {
   "cell_type": "markdown",
   "id": "8ca8f5ea",
   "metadata": {},
   "source": [
    "18. Create a list of functions that add a different number (1, 2, and 3) to an input. Call each function from the list with the argument 5."
   ]
  },
  {
   "cell_type": "markdown",
   "id": "e6a95021",
   "metadata": {},
   "source": [
    "19. Create a function `combine` that returns a function which combines two strings. Use this function to combine 'hello' and 'world'."
   ]
  },
  {
   "cell_type": "markdown",
   "id": "b6d70e09",
   "metadata": {},
   "source": [
    "20. Create a function that returns another function which returns the factorial of a number. Call this returned function with the number 4."
   ]
  }
 ],
 "metadata": {
  "kernelspec": {
   "display_name": "base",
   "language": "python",
   "name": "python3"
  },
  "language_info": {
   "codemirror_mode": {
    "name": "ipython",
    "version": 3
   },
   "file_extension": ".py",
   "mimetype": "text/x-python",
   "name": "python",
   "nbconvert_exporter": "python",
   "pygments_lexer": "ipython3",
   "version": "3.12.4"
  }
 },
 "nbformat": 4,
 "nbformat_minor": 5
}
