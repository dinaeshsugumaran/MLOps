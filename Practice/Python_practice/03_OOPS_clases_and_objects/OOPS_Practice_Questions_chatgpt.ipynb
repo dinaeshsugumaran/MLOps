{
 "cells": [
  {
   "cell_type": "markdown",
   "id": "7a89bf27",
   "metadata": {},
   "source": [
    "# Object-Oriented Programming (OOP) Practice Questions"
   ]
  },
  {
   "cell_type": "markdown",
   "id": "12188e3a",
   "metadata": {},
   "source": [
    "\n",
    "## Basic Level Questions\n",
    "\n",
    "\n"
   ]
  },
  {
   "cell_type": "markdown",
   "id": "8873988e",
   "metadata": {},
   "source": [
    "1. Define a simple class `Car` with an `__init__` constructor that takes `brand` and `model` as attributes.\n"
   ]
  },
  {
   "cell_type": "code",
   "execution_count": 1,
   "id": "b908b3ca",
   "metadata": {},
   "outputs": [],
   "source": [
    "class Car():\n",
    "    def __init__(self,brand,model):\n",
    "        self.brand = brand\n",
    "        self.model = model"
   ]
  },
  {
   "cell_type": "markdown",
   "id": "4d22b574",
   "metadata": {},
   "source": [
    "2. Create an instance of the `Car` class and print its attributes.\n"
   ]
  },
  {
   "cell_type": "code",
   "execution_count": 2,
   "id": "62a82a4b",
   "metadata": {},
   "outputs": [
    {
     "name": "stdout",
     "output_type": "stream",
     "text": [
      "car brand is Mazda and the model is Mazda3\n"
     ]
    }
   ],
   "source": [
    "first_car = Car('Mazda','Mazda3')\n",
    "print(f\"car brand is {first_car.brand} and the model is {first_car.model}\")"
   ]
  },
  {
   "cell_type": "markdown",
   "id": "50f6bc22",
   "metadata": {},
   "source": [
    "3. What is the purpose of the `self` keyword in Python classes? Explain with an example.\n"
   ]
  },
  {
   "cell_type": "markdown",
   "id": "78b29b06",
   "metadata": {},
   "source": [
    "4. Define a class with both instance and class variables. Demonstrate how they behave differently.\n"
   ]
  },
  {
   "cell_type": "code",
   "execution_count": 11,
   "id": "8a96a106",
   "metadata": {},
   "outputs": [],
   "source": [
    "class Car():\n",
    "    price = 18000\n",
    "    def __init__(self,brand,model):\n",
    "        self.brand = brand\n",
    "        self.model = model"
   ]
  },
  {
   "cell_type": "code",
   "execution_count": 17,
   "id": "73099084",
   "metadata": {},
   "outputs": [
    {
     "name": "stdout",
     "output_type": "stream",
     "text": [
      "car brand is Mazda and the model is Mazda3 and the price is 18000\n"
     ]
    }
   ],
   "source": [
    "first_car = Car('Mazda','Mazda3')\n",
    "print(f\"car brand is {first_car.brand} and the model is {first_car.model} and the price is {first_car.price}\")"
   ]
  },
  {
   "cell_type": "markdown",
   "id": "894b724a",
   "metadata": {},
   "source": [
    "5. Implement a method inside a class that prints `\"Hello, OOP!\"` when called.\n",
    "6. Define a class `Person` with a `__str__` method that returns the person's name and age.\n",
    "7. Create a static method inside a class and demonstrate its usage.\n",
    "8. What happens if you forget to include `self` in an instance method? Test and explain.\n",
    "9. Create a class with a `classmethod` and explain how it is different from an instance method.\n",
    "10. Define a `BankAccount` class with a `balance` attribute and a `deposit()` method."
   ]
  },
  {
   "cell_type": "markdown",
   "id": "1f71c25c",
   "metadata": {},
   "source": [
    "\n",
    "## Intermediate Level Questions\n",
    "\n",
    "11. Implement a class `Employee` that inherits from `Person` and adds a `salary` attribute.\n",
    "12. Demonstrate method overriding using a base class `Animal` and a subclass `Dog`.\n",
    "13. Implement a private attribute in a class and access it using a getter method.\n",
    "14. Use the `super()` function to call a parent class method inside a subclass.\n",
    "15. Implement operator overloading for the `+` operator in a `Vector` class.\n",
    "16. Define a class `Shape` with a method `area()`, and implement subclasses `Circle` and `Rectangle`.\n",
    "17. Demonstrate multiple inheritance using two parent classes.\n",
    "18. What is duck typing? Write a Python program that demonstrates duck typing.\n",
    "19. Implement a singleton class in Python.\n",
    "20. Demonstrate the use of `__repr__` vs `__str__` with an example.\n"
   ]
  },
  {
   "cell_type": "markdown",
   "id": "ac56f0b1",
   "metadata": {},
   "source": [
    "\n",
    "## Advanced Level Questions\n",
    "\n",
    "21. Implement an abstract class `Vehicle` with an abstract method `fuel_type()`.\n",
    "22. Demonstrate method resolution order (MRO) in multiple inheritance with a diamond problem.\n",
    "23. Use `__slots__` to optimize memory usage in a class.\n",
    "24. Implement a class decorator that logs method calls.\n",
    "25. Demonstrate the use of metaclasses by creating a custom metaclass that modifies class attributes.\n",
    "26. Serialize and deserialize a Python object using the `pickle` module.\n",
    "27. Implement a `@property` decorator to make an attribute read-only.\n",
    "28. Demonstrate composition by creating a `Car` class that contains an `Engine` class.\n",
    "29. Implement a plugin system using metaclasses.\n",
    "30. Compare and contrast inheritance and composition with an example.\n"
   ]
  }
 ],
 "metadata": {
  "kernelspec": {
   "display_name": "base",
   "language": "python",
   "name": "python3"
  },
  "language_info": {
   "codemirror_mode": {
    "name": "ipython",
    "version": 3
   },
   "file_extension": ".py",
   "mimetype": "text/x-python",
   "name": "python",
   "nbconvert_exporter": "python",
   "pygments_lexer": "ipython3",
   "version": "3.12.4"
  }
 },
 "nbformat": 4,
 "nbformat_minor": 5
}
