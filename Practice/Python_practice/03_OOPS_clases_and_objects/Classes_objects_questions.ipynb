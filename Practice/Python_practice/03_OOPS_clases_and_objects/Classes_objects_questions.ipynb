{
 "cells": [
  {
   "cell_type": "markdown",
   "id": "e0b5b961",
   "metadata": {},
   "source": [
    "# Module: Classes and Objects Assignments\n",
    "## Lesson: Creating and Working with Classes and Objects\n",
    "### Assignment 1: Basic Class and Object Creation\n",
    "\n",
    "Create a class named `Car` with attributes `make`, `model`, and `year`. Create an object of the class and print its attributes.\n",
    "\n"
   ]
  },
  {
   "cell_type": "code",
   "execution_count": 29,
   "id": "7a9ba276",
   "metadata": {},
   "outputs": [],
   "source": [
    "class car():\n",
    "     def __init__(self,make,model,year):\n",
    "          self.make = make\n",
    "          self.model = model\n",
    "          self.year = year \n",
    "     def print_details(self): # printing the same result from the below cell from the class\n",
    "          return f\"my car's brand is {self.make} and it's a {self.year} {self.model}\"\n",
    "     \n"
   ]
  },
  {
   "cell_type": "code",
   "execution_count": 31,
   "id": "1348b379",
   "metadata": {},
   "outputs": [
    {
     "name": "stdout",
     "output_type": "stream",
     "text": [
      "my car's brand is mazda and it's a 2017 mazda3\n"
     ]
    }
   ],
   "source": [
    "mycar = car('mazda','mazda3',2017)\n",
    "print(f\"my car's brand is {mycar.make} and it's a {mycar.year} {mycar.model}\")"
   ]
  },
  {
   "cell_type": "code",
   "execution_count": 32,
   "id": "8f52656f",
   "metadata": {},
   "outputs": [
    {
     "name": "stdout",
     "output_type": "stream",
     "text": [
      "my car's brand is mazda and it's a 2017 mazda3\n"
     ]
    }
   ],
   "source": [
    "print(mycar.print_details()) # printing the same above result from the class iself through a class method."
   ]
  },
  {
   "cell_type": "code",
   "execution_count": 33,
   "id": "d585ca1e",
   "metadata": {},
   "outputs": [
    {
     "name": "stdout",
     "output_type": "stream",
     "text": [
      "my car's brand is mazda and it's a 2017 mazda3\n"
     ]
    }
   ],
   "source": [
    "print(car.print_details(mycar))# printing the same above result but calling throught the class name itself but by passing the object"
   ]
  },
  {
   "cell_type": "markdown",
   "id": "faa18fb1",
   "metadata": {},
   "source": [
    "### Assignment 2: Methods in Class\n",
    "\n",
    "Add a method named `start_engine` to the `Car` class that prints a message when the engine starts. Create an object of the class and call the method.\n",
    "\n"
   ]
  },
  {
   "cell_type": "code",
   "execution_count": null,
   "id": "ce195d85",
   "metadata": {},
   "outputs": [],
   "source": [
    "class car():\n",
    "     def __init__(self,make,model,year):\n",
    "          self.make = make\n",
    "          self.model = model\n",
    "          self.year = year \n",
    "     def print_details(self): # printing the same result from the below cell from the class\n",
    "          return f\"my car's brand is {self.make} and it's a {self.year} {self.model}\"\n",
    "     def start_engine(self):\n",
    "          return f\"The car {self.model} started successfully\"\n",
    "   "
   ]
  },
  {
   "cell_type": "code",
   "execution_count": null,
   "id": "3643237c",
   "metadata": {},
   "outputs": [
    {
     "name": "stdout",
     "output_type": "stream",
     "text": [
      "The car mazda3 started successfully\n"
     ]
    }
   ],
   "source": [
    "mycar = car('mazda','mazda3',2017)\n"
   ]
  },
  {
   "cell_type": "code",
   "execution_count": 37,
   "id": "d13e9643",
   "metadata": {},
   "outputs": [
    {
     "name": "stdout",
     "output_type": "stream",
     "text": [
      "The car mazda3 started successfully\n"
     ]
    }
   ],
   "source": [
    "print(mycar.start_engine())"
   ]
  },
  {
   "cell_type": "code",
   "execution_count": 39,
   "id": "f66cb422",
   "metadata": {},
   "outputs": [
    {
     "name": "stdout",
     "output_type": "stream",
     "text": [
      "The car mazda3 started successfully\n"
     ]
    }
   ],
   "source": [
    "print(car.start_engine(mycar))"
   ]
  },
  {
   "cell_type": "markdown",
   "id": "3dd56411",
   "metadata": {},
   "source": [
    "### Assignment 3: Class with Constructor\n",
    "\n",
    "Create a class named `Student` with attributes `name` and `age`. Use a constructor to initialize these attributes. Create an object of the class and print its attributes.\n"
   ]
  },
  {
   "cell_type": "code",
   "execution_count": 40,
   "id": "2c2af4d4",
   "metadata": {},
   "outputs": [],
   "source": [
    "class student():\n",
    "    def __init__(self,name,age):\n",
    "        self.name = name\n",
    "        self.age = age"
   ]
  },
  {
   "cell_type": "code",
   "execution_count": 41,
   "id": "a4748abb",
   "metadata": {},
   "outputs": [
    {
     "name": "stdout",
     "output_type": "stream",
     "text": [
      "student name is dinaesh and age is 33\n"
     ]
    }
   ],
   "source": [
    "first_class = student('dinaesh',33)\n",
    "print(f\"student name is {first_class.name} and age is {first_class.age}\")"
   ]
  },
  {
   "cell_type": "markdown",
   "id": "34485526",
   "metadata": {},
   "source": [
    "\n",
    "### Assignment 4: Class with Private Attributes\n",
    "\n",
    "Create a class named `BankAccount` with private attributes `account_number` and `balance`. Add methods to deposit and withdraw money, and to check the balance. Create an object of the class and perform some operations.\n",
    "\n",
    "### Assignment 5: Class Inheritance\n",
    "\n",
    "Create a base class named `Person` with attributes `name` and `age`. Create a derived class named `Employee` that inherits from `Person` and adds an attribute `employee_id`. Create an object of the derived class and print its attributes.\n",
    "\n",
    "### Assignment 6: Method Overriding\n",
    "\n",
    "In the `Employee` class, override the `__str__` method to return a string representation of the object. Create an object of the class and print it.\n",
    "\n",
    "### Assignment 7: Class Composition\n",
    "\n",
    "Create a class named `Address` with attributes `street`, `city`, and `zipcode`. Create a class named `Person` that has an `Address` object as an attribute. Create an object of the `Person` class and print its address.\n",
    "\n",
    "### Assignment 8: Class with Class Variables\n",
    "\n",
    "Create a class named `Counter` with a class variable `count`. Each time an object is created, increment the count. Add a method to get the current count. Create multiple objects and print the count.\n",
    "\n",
    "### Assignment 9: Static Methods\n",
    "\n",
    "Create a class named `MathOperations` with a static method to calculate the square root of a number. Call the static method without creating an object.\n",
    "\n",
    "### Assignment 10: Class with Properties\n",
    "\n",
    "Create a class named `Rectangle` with private attributes `length` and `width`. Use properties to get and set these attributes. Create an object of the class and test the properties.\n",
    "\n",
    "### Assignment 11: Abstract Base Class\n",
    "\n",
    "Create an abstract base class named `Shape` with an abstract method `area`. Create derived classes `Circle` and `Square` that implement the `area` method. Create objects of the derived classes and call the `area` method.\n",
    "\n",
    "### Assignment 12: Operator Overloading\n",
    "\n",
    "Create a class named `Vector` with attributes `x` and `y`. Overload the `+` operator to add two `Vector` objects. Create objects of the class and test the operator overloading.\n",
    "\n",
    "### Assignment 13: Class with Custom Exception\n",
    "\n",
    "Create a custom exception named `InsufficientBalanceError`. In the `BankAccount` class, raise this exception when a withdrawal amount is greater than the balance. Handle the exception and print an appropriate message.\n",
    "\n",
    "### Assignment 14: Class with Context Manager\n",
    "\n",
    "Create a class named `FileManager` that implements the context manager protocol to open and close a file. Use this class to read the contents of a file.\n",
    "\n",
    "### Assignment 15: Chaining Methods\n",
    "\n",
    "Create a class named `Calculator` with methods to add, subtract, multiply, and divide. Each method should return the object itself to allow method chaining. Create an object and chain multiple method calls."
   ]
  }
 ],
 "metadata": {
  "kernelspec": {
   "display_name": "base",
   "language": "python",
   "name": "python3"
  },
  "language_info": {
   "codemirror_mode": {
    "name": "ipython",
    "version": 3
   },
   "file_extension": ".py",
   "mimetype": "text/x-python",
   "name": "python",
   "nbconvert_exporter": "python",
   "pygments_lexer": "ipython3",
   "version": "3.12.4"
  }
 },
 "nbformat": 4,
 "nbformat_minor": 5
}
