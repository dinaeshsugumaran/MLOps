{
 "cells": [
  {
   "cell_type": "markdown",
   "id": "5dc26525",
   "metadata": {},
   "source": [
    "## 1. Multithreading with `threading`\n",
    "Create a simple Python program that runs two functions in parallel using the `threading` module."
   ]
  },
  {
   "cell_type": "markdown",
   "id": "d2d5772e",
   "metadata": {},
   "source": [
    "## 2. Fetching Data in Parallel\n",
    "Write a program that creates multiple threads to fetch data from different URLs using `ThreadPoolExecutor`."
   ]
  },
  {
   "cell_type": "markdown",
   "id": "9fa2ea7b",
   "metadata": {},
   "source": [
    "## 3. Multiprocessing for Parallel Sum Calculation\n",
    "Implement a Python script using `multiprocessing` to calculate the sum of numbers in parallel using multiple processes."
   ]
  },
  {
   "cell_type": "markdown",
   "id": "1ae91890",
   "metadata": {},
   "source": [
    "## 4. Using `ThreadPoolExecutor`\n",
    "Demonstrate the use of `ThreadPoolExecutor` to execute a function multiple times in parallel."
   ]
  },
  {
   "cell_type": "markdown",
   "id": "9140c20e",
   "metadata": {},
   "source": [
    "## 5. Process Pool for Factorial Calculation\n",
    "Create a program that uses `ProcessPoolExecutor` to compute the factorial of numbers in a list concurrently."
   ]
  },
  {
   "cell_type": "markdown",
   "id": "c949db6e",
   "metadata": {},
   "source": [
    "## 6. Comparing `threading` vs `multiprocessing`\n",
    "Compare the execution time of a CPU-intensive task using `threading` vs `multiprocessing`."
   ]
  },
  {
   "cell_type": "markdown",
   "id": "ae17eb42",
   "metadata": {},
   "source": [
    "## 7. Worker Pool with `ThreadPoolExecutor`\n",
    "Implement a worker pool using `ThreadPoolExecutor` where each worker processes elements of a list."
   ]
  },
  {
   "cell_type": "markdown",
   "id": "154a3460",
   "metadata": {},
   "source": [
    "## 8. Multithreaded File Reading\n",
    "Create a multi-threaded program that reads data from multiple files simultaneously."
   ]
  },
  {
   "cell_type": "markdown",
   "id": "2739c511",
   "metadata": {},
   "source": [
    "## 9. Concurrent File Download\n",
    "Write a Python script that downloads multiple files concurrently using threads."
   ]
  },
  {
   "cell_type": "markdown",
   "id": "ecbd0450",
   "metadata": {},
   "source": [
    "## 10. Parallel Processing with `Pool.map`\n",
    "Implement a multiprocessing program that squares numbers using `Pool.map`."
   ]
  },
  {
   "cell_type": "markdown",
   "id": "264c3cdd",
   "metadata": {},
   "source": [
    "## 11. `ThreadPoolExecutor` vs `ProcessPoolExecutor`\n",
    "Compare `ThreadPoolExecutor` and `ProcessPoolExecutor` by running an I/O-bound task and a CPU-bound task separately."
   ]
  },
  {
   "cell_type": "markdown",
   "id": "b9809ac1",
   "metadata": {},
   "source": [
    "## 12. Deadlocks in Multithreading\n",
    "Implement a Python program that demonstrates deadlocks in multithreading and how to prevent them."
   ]
  },
  {
   "cell_type": "markdown",
   "id": "7ca5245d",
   "metadata": {},
   "source": [
    "## 13. Multi-threaded Queue Processing\n",
    "Create a program using `Queue` and `threading` where multiple threads consume tasks from a shared queue."
   ]
  },
  {
   "cell_type": "markdown",
   "id": "4627bf94",
   "metadata": {},
   "source": [
    "## 14. Processing Tasks with `as_completed()`\n",
    "Use `concurrent.futures.as_completed()` to process tasks as they complete in a `ThreadPoolExecutor`."
   ]
  },
  {
   "cell_type": "markdown",
   "id": "99d89efe",
   "metadata": {},
   "source": [
    "## 15. Impact of Global Interpreter Lock (GIL)\n",
    "Write a Python script that demonstrates the impact of the Global Interpreter Lock (GIL) on multi-threading."
   ]
  }
 ],
 "metadata": {},
 "nbformat": 4,
 "nbformat_minor": 5
}