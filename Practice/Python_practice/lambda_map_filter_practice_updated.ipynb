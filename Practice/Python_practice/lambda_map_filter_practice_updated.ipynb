{
 "cells": [
  {
   "cell_type": "markdown",
   "id": "9516d463",
   "metadata": {},
   "source": [
    "# Python Practice: Lambda, Map, and Filter"
   ]
  },
  {
   "cell_type": "markdown",
   "id": "fbc5e696",
   "metadata": {},
   "source": [
    "\n",
    "In this notebook, we will practice Python's `lambda`, `map`, and `filter` functions.\n",
    "You will be given problems that require applying these functions to solve.\n",
    "\n",
    "### Instructions:\n",
    "1. Use `lambda` to define small anonymous functions.\n",
    "2. Use `map` to apply a function to each item in an iterable.\n",
    "3. Use `filter` to filter out elements based on a condition.\n",
    "\n",
    "Let's get started with some sample questions!\n"
   ]
  },
  {
   "cell_type": "markdown",
   "id": "e314cafa",
   "metadata": {},
   "source": [
    "\n",
    "### Question 1: Lambda Function Practice\n",
    "Create a `lambda` function that calculates the square of a given number. Apply this function to the list `[1, 2, 3, 4, 5]` using `map`.\n",
    "\n",
    "**Expected Output:**\n",
    "A new list with the squares of the numbers.\n"
   ]
  },
  {
   "cell_type": "markdown",
   "id": "1295de22",
   "metadata": {},
   "source": [
    "\n",
    "### Question 2: Map Function Practice\n",
    "Given a list of temperatures in Celsius `[0, 10, 20, 30, 40]`, create a function that converts each temperature to Fahrenheit. Use `map` to apply the conversion.\n",
    "\n",
    "**Conversion Formula:** `Fahrenheit = (Celsius * 9/5) + 32`\n",
    "\n",
    "**Expected Output:**\n",
    "A new list with temperatures in Fahrenheit.\n"
   ]
  },
  {
   "cell_type": "markdown",
   "id": "16d2adac",
   "metadata": {},
   "source": [
    "\n",
    "### Question 3: Filter Function Practice\n",
    "Given the list `[1, 2, 3, 4, 5, 6, 7, 8, 9]`, use `filter` to select only the even numbers.\n",
    "\n",
    "**Expected Output:**\n",
    "A new list with only even numbers from the original list.\n"
   ]
  },
  {
   "cell_type": "markdown",
   "id": "6e49591a",
   "metadata": {},
   "source": [
    "### Question 4: Lambda Function with Sorting\n",
    "Given a list of tuples `[(2, 'two'), (1, 'one'), (3, 'three')]`, use `lambda` to sort the list by the first element of each tuple.\n",
    "\n",
    "**Expected Output:**\n",
    "A new list sorted by the first element of each tuple."
   ]
  },
  {
   "cell_type": "markdown",
   "id": "c77e21e1",
   "metadata": {},
   "source": [
    "### Question 5: Map Function with Strings\n",
    "Given a list of strings `['apple', 'banana', 'cherry']`, use `map` to convert all strings to uppercase.\n",
    "\n",
    "**Expected Output:**\n",
    "A new list with all strings in uppercase."
   ]
  },
  {
   "cell_type": "markdown",
   "id": "b3019c50",
   "metadata": {},
   "source": [
    "### Question 6: Filter Function with Conditions\n",
    "Given a list of numbers `[10, 20, 15, 25, 30]`, use `filter` to select numbers that are divisible by 5.\n",
    "\n",
    "**Expected Output:**\n",
    "A new list with only numbers divisible by 5."
   ]
  },
  {
   "cell_type": "markdown",
   "id": "377a9092",
   "metadata": {},
   "source": [
    "### Question 7: Lambda and Filter for Odd Numbers\n",
    "Given a list of numbers `[1, 2, 3, 4, 5, 6, 7, 8, 9]`, use `lambda` and `filter` to select only the odd numbers.\n",
    "\n",
    "**Expected Output:**\n",
    "A new list with only odd numbers."
   ]
  },
  {
   "cell_type": "markdown",
   "id": "2f83f6ff",
   "metadata": {},
   "source": [
    "### Question 8: Map Function with List of Lists\n",
    "Given a list of lists `[[1, 2], [3, 4], [5, 6]]`, use `map` to calculate the sum of each inner list.\n",
    "\n",
    "**Expected Output:**\n",
    "A new list with the sums of each inner list."
   ]
  },
  {
   "cell_type": "markdown",
   "id": "73d92b67",
   "metadata": {},
   "source": [
    "### Question 9: Lambda Function with Multiple Arguments\n",
    "Create a `lambda` function that takes two arguments and returns their product. Use this function to multiply corresponding elements of two lists `[2, 4, 6]` and `[1, 3, 5]` using `map`.\n",
    "\n",
    "**Expected Output:**\n",
    "A new list with the products of corresponding elements."
   ]
  },
  {
   "cell_type": "markdown",
   "id": "4e9c5633",
   "metadata": {},
   "source": [
    "### Question 10: Filter Function with Custom Condition\n",
    "Given a list of words `['cat', 'bat', 'rat', 'dog', 'elephant']`, use `filter` to select words that start with the letter 'c' or 'b'.\n",
    "\n",
    "**Expected Output:**\n",
    "A new list with only words starting with 'c' or 'b'."
   ]
  }
 ],
 "metadata": {},
 "nbformat": 4,
 "nbformat_minor": 5
}
