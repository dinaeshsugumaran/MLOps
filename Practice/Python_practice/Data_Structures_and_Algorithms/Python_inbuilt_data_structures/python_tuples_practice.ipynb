{
 "cells": [
  {
   "cell_type": "markdown",
   "metadata": {},
   "source": [
    "# Python Tuples Practice\n",
    "This notebook contains 15 questions to help you practice Python tuples. Try to solve them without looking at the answers!\n",
    "\n",
    "Topics covered:\n",
    "1. Creating tuples\n",
    "2. Accessing tuple elements\n",
    "3. Tuple operations\n",
    "4. Immutable nature of tuples\n",
    "5. Tuple methods\n",
    "6. Packing and unpacking tuples\n",
    "7. Nested tuples"
   ]
  },
  {
   "cell_type": "markdown",
   "metadata": {},
   "source": [
    "## 1. Creating Tuples"
   ]
  },
  {
   "cell_type": "code",
   "execution_count": 10,
   "metadata": {},
   "outputs": [],
   "source": [
    "# Q1: Create a tuple named `colors` containing the elements \"red\", \"green\", and \"blue\".\n",
    "\n",
    "colors = ('red','green','blue')\n",
    "\n",
    "# Q2: Access the second element of the `colors` tuple and print it.\n",
    "\n",
    "\n",
    "\n",
    "# Q3: Create a tuple named `coordinates` containing the elements 10.5 and 20.75.\n",
    "\n"
   ]
  },
  {
   "cell_type": "code",
   "execution_count": null,
   "metadata": {},
   "outputs": [
    {
     "name": "stdout",
     "output_type": "stream",
     "text": [
      "<class 'tuple'>\n"
     ]
    }
   ],
   "source": [
    "print(type(colors))"
   ]
  },
  {
   "cell_type": "code",
   "execution_count": null,
   "metadata": {},
   "outputs": [],
   "source": [
    "# Q2: Create a tuple named `numbers` with integers from 1 to 10."
   ]
  },
  {
   "cell_type": "code",
   "execution_count": null,
   "metadata": {},
   "outputs": [],
   "source": [
    "# Q3: Create a single-element tuple named `single` containing the value 100."
   ]
  },
  {
   "cell_type": "markdown",
   "metadata": {},
   "source": [
    "## 2. Accessing Tuple Elements"
   ]
  },
  {
   "cell_type": "code",
   "execution_count": null,
   "metadata": {},
   "outputs": [],
   "source": [
    "# Q4: Given the tuple `fruits = (\"apple\", \"banana\", \"cherry\")`, access and print the second element."
   ]
  },
  {
   "cell_type": "code",
   "execution_count": null,
   "metadata": {},
   "outputs": [],
   "source": [
    "# Q5: Given the tuple `numbers = (10, 20, 30, 40, 50)`, access and print the last element using negative indexing."
   ]
  },
  {
   "cell_type": "code",
   "execution_count": null,
   "metadata": {},
   "outputs": [],
   "source": [
    "# Q6: Given the tuple `letters = (\"a\", \"b\", \"c\", \"d\", \"e\")`, slice the tuple to get elements from index 1 to 3."
   ]
  },
  {
   "cell_type": "markdown",
   "metadata": {},
   "source": [
    "## 3. Tuple Operations"
   ]
  },
  {
   "cell_type": "code",
   "execution_count": null,
   "metadata": {},
   "outputs": [],
   "source": [
    "# Q7: Concatenate the tuples `tuple1 = (1, 2, 3)` and `tuple2 = (4, 5, 6)` into a new tuple named `combined`."
   ]
  },
  {
   "cell_type": "code",
   "execution_count": null,
   "metadata": {},
   "outputs": [],
   "source": [
    "# Q8: Repeat the tuple `my_tuple = (\"hello\", \"world\")` three times."
   ]
  },
  {
   "cell_type": "code",
   "execution_count": null,
   "metadata": {},
   "outputs": [],
   "source": [
    "# Q9: Check if the value `5` exists in the tuple `numbers = (1, 2, 3, 4, 5)`."
   ]
  },
  {
   "cell_type": "markdown",
   "metadata": {},
   "source": [
    "## 4. Immutable Nature of Tuples"
   ]
  },
  {
   "cell_type": "code",
   "execution_count": null,
   "metadata": {},
   "outputs": [],
   "source": [
    "# Q10: Try to change the second element of the tuple `fruits = (\"apple\", \"banana\", \"cherry\")` to \"orange\". Observe the error and explain why it occurs."
   ]
  },
  {
   "cell_type": "markdown",
   "metadata": {},
   "source": [
    "## 5. Tuple Methods"
   ]
  },
  {
   "cell_type": "code",
   "execution_count": null,
   "metadata": {},
   "outputs": [],
   "source": [
    "# Q11: Given the tuple `my_tuple = (1, 2, 3, 2, 4, 2)`, use the `count()` method to count how many times the value `2` appears."
   ]
  },
  {
   "cell_type": "code",
   "execution_count": null,
   "metadata": {},
   "outputs": [],
   "source": [
    "# Q12: Given the tuple `my_tuple = (\"a\", \"b\", \"c\", \"d\")`, use the `index()` method to find the position of the element `\"c\"`."
   ]
  },
  {
   "cell_type": "markdown",
   "metadata": {},
   "source": [
    "## 6. Packing and Unpacking Tuples"
   ]
  },
  {
   "cell_type": "code",
   "execution_count": null,
   "metadata": {},
   "outputs": [],
   "source": [
    "# Q13: Pack three variables `name`, `age`, and `city` into a tuple named `person`."
   ]
  },
  {
   "cell_type": "code",
   "execution_count": null,
   "metadata": {},
   "outputs": [],
   "source": [
    "# Q14: Unpack the tuple `person = (\"Alice\", 25, \"New York\")` into three variables: `name`, `age`, and `city`."
   ]
  },
  {
   "cell_type": "markdown",
   "metadata": {},
   "source": [
    "## 7. Nested Tuples"
   ]
  },
  {
   "cell_type": "code",
   "execution_count": null,
   "metadata": {},
   "outputs": [],
   "source": [
    "# Q15: Create a nested tuple named `nested` containing the tuples `(1, 2, 3)` and `(\"a\", \"b\", \"c\")`."
   ]
  },
  {
   "cell_type": "code",
   "execution_count": null,
   "metadata": {},
   "outputs": [],
   "source": [
    "# Q16: Access the second element of the first tuple inside the `nested` tuple."
   ]
  },
  {
   "cell_type": "markdown",
   "metadata": {},
   "source": [
    "## Bonus Questions"
   ]
  },
  {
   "cell_type": "code",
   "execution_count": null,
   "metadata": {},
   "outputs": [],
   "source": [
    "# Q17: Create a tuple with mixed data types (e.g., integers, strings, floats) and print its type."
   ]
  },
  {
   "cell_type": "code",
   "execution_count": null,
   "metadata": {},
   "outputs": [],
   "source": [
    "# Q18: Convert a list `[1, 2, 3, 4]` into a tuple and print it."
   ]
  },
  {
   "cell_type": "code",
   "execution_count": null,
   "metadata": {},
   "outputs": [],
   "source": [
    "# Q19: Compare two tuples `tuple1 = (1, 2, 3)` and `tuple2 = (1, 2, 4)` and check if they are equal."
   ]
  }
 ],
 "metadata": {
  "kernelspec": {
   "display_name": "base",
   "language": "python",
   "name": "python3"
  },
  "language_info": {
   "codemirror_mode": {
    "name": "ipython",
    "version": 3
   },
   "file_extension": ".py",
   "mimetype": "text/x-python",
   "name": "python",
   "nbconvert_exporter": "python",
   "pygments_lexer": "ipython3",
   "version": "3.12.4"
  }
 },
 "nbformat": 4,
 "nbformat_minor": 4
}
