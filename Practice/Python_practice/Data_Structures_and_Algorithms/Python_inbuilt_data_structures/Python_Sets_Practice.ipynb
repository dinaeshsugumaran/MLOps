{
 "cells": [
  {
   "cell_type": "markdown",
   "metadata": {},
   "source": [
    "# 📝 Python Sets - Practice Problems"
   ]
  },
  {
   "cell_type": "markdown",
   "metadata": {},
   "source": [
    "Welcome! This notebook contains practice problems on Python **sets**.  \n",
    "Try solving them without looking up the answers. 🚀  \n",
    "\n",
    "### **Topics Covered:**\n",
    "✅ Creating sets (normal, empty, with duplicates)  \n",
    "✅ Adding, removing, discarding, and popping elements  \n",
    "✅ Membership tests  \n",
    "✅ Set operations (union, intersection, difference, symmetric difference)  \n",
    "✅ Checking subsets and supersets  \n",
    "✅ Removing duplicates from lists and tuples  \n",
    "✅ Additional important problems  \n",
    "\n",
    "Let's get started! 🎯"
   ]
  },
  {
   "cell_type": "code",
   "execution_count": 1,
   "metadata": {},
   "outputs": [
    {
     "name": "stdout",
     "output_type": "stream",
     "text": [
      "{1, 2, 3, 4, 5}\n",
      "<class 'set'>\n"
     ]
    }
   ],
   "source": [
    "# 1️⃣ Create a set with at least 5 different numbers.\n",
    "\n",
    "# Your code here\n",
    "\n",
    "numbers = {1,2,3,4,5}\n",
    "print(numbers)\n",
    "print(type(numbers))"
   ]
  },
  {
   "cell_type": "code",
   "execution_count": 4,
   "metadata": {},
   "outputs": [
    {
     "name": "stdout",
     "output_type": "stream",
     "text": [
      "{}\n",
      "set()\n"
     ]
    }
   ],
   "source": [
    "# 2️⃣ Create an **empty set** and verify its type.\n",
    "empty_set = {}\n",
    "empty_set_with_method = set()\n",
    "\n",
    "print(empty_set)\n",
    "print(empty_set_with_method)\n",
    "# Your code here"
   ]
  },
  {
   "cell_type": "code",
   "execution_count": 5,
   "metadata": {},
   "outputs": [
    {
     "name": "stdout",
     "output_type": "stream",
     "text": [
      "{1, 2, 3}\n"
     ]
    }
   ],
   "source": [
    "# 3️⃣ Create a set with duplicate values and print it. What do you observe?\n",
    "\n",
    "# Your code here\n",
    "\n",
    "duplicate_set = {1,1,1,1,1,1,2,3}\n",
    "print(duplicate_set)"
   ]
  },
  {
   "cell_type": "code",
   "execution_count": 11,
   "metadata": {},
   "outputs": [
    {
     "name": "stdout",
     "output_type": "stream",
     "text": [
      "{1, 2, 3, 4}\n",
      "{1, 2, 3, 4, 5, 10}\n",
      "{1, 2, 3, 4, 5, 10}\n"
     ]
    }
   ],
   "source": [
    "# 4️⃣ Add elements **5** and **10** to an existing set `{1, 2, 3, 4}`.\n",
    "\n",
    "# Your code here\n",
    "\n",
    "set_1= {1,2,3,4}\n",
    "print(set_1)\n",
    "set_1.add(5)\n",
    "set_1.add(10)\n",
    "set_1.add(1)\n",
    "print(set_1)\n",
    "\n",
    "\n",
    "#we can do it once by using update()\n",
    "\n",
    "set_2 = {1,2,3,4}\n",
    "set_2.update([1,5,10])\n",
    "print(set_2)"
   ]
  },
  {
   "cell_type": "code",
   "execution_count": 17,
   "metadata": {},
   "outputs": [
    {
     "name": "stdout",
     "output_type": "stream",
     "text": [
      "{1, 2, 3, 4, 5}\n",
      "{2, 3, 4, 5}\n",
      "{2, 3, 4, 5}\n",
      "{4, 5}\n"
     ]
    }
   ],
   "source": [
    "# 5️⃣ Remove an element **if it exists**, otherwise handle it gracefully.\n",
    "\n",
    "# Your code here\n",
    "\n",
    "set_3 = {1, 2, 3, 4, 5}\n",
    "print(set_3)\n",
    "set_3.remove(1)\n",
    "print(set_3)\n",
    "\n",
    "#if i need to remove an unavailable value, lets see what happens\n",
    "\n",
    "#set_3.remove(10) #this will give error\n",
    "\n",
    "#so to handle this gracefully we use discard\n",
    "\n",
    "set_3.discard(10) #this will not give error\n",
    "print(set_3)\n",
    "\n",
    "#and to remove multiple values.\n",
    "\n",
    "set_3.difference_update([2,3])\n",
    "print(set_3)"
   ]
  },
  {
   "cell_type": "code",
   "execution_count": null,
   "metadata": {},
   "outputs": [],
   "source": [
    "# 6️⃣ Use **discard()** to remove an element from a set.\n",
    "\n",
    "# Your code here - see above cell"
   ]
  },
  {
   "cell_type": "code",
   "execution_count": null,
   "metadata": {},
   "outputs": [
    {
     "name": "stdout",
     "output_type": "stream",
     "text": [
      "{1, 2, 3, 4, 5}\n",
      "{2, 3, 4, 5}\n",
      "{}\n"
     ]
    },
    {
     "ename": "TypeError",
     "evalue": "pop expected at least 1 argument, got 0",
     "output_type": "error",
     "traceback": [
      "\u001b[0;31m---------------------------------------------------------------------------\u001b[0m",
      "\u001b[0;31mTypeError\u001b[0m                                 Traceback (most recent call last)",
      "Cell \u001b[0;32mIn[21], line 13\u001b[0m\n\u001b[1;32m     11\u001b[0m empty_set \u001b[38;5;241m=\u001b[39m {}\n\u001b[1;32m     12\u001b[0m \u001b[38;5;28mprint\u001b[39m(empty_set)\n\u001b[0;32m---> 13\u001b[0m empty_set\u001b[38;5;241m.\u001b[39mpop()\n",
      "\u001b[0;31mTypeError\u001b[0m: pop expected at least 1 argument, got 0"
     ]
    }
   ],
   "source": [
    "# 7️⃣ Remove an element using **pop()**. What happens if the set is empty?\n",
    "\n",
    "\n",
    "# Your code here\n",
    "set_4 = {1,2,3,4,5}\n",
    "print(set_4)\n",
    "set_4.pop()\n",
    "print(set_4)\n",
    "\n",
    "empty_set = {}\n",
    "print(empty_set)\n",
    "empty_set.pop() #empty set cannot use pop() method, as there is no value to pop"
   ]
  },
  {
   "cell_type": "code",
   "execution_count": 22,
   "metadata": {},
   "outputs": [
    {
     "name": "stdout",
     "output_type": "stream",
     "text": [
      "{1, 2, 3, 4, 5}\n",
      "set()\n"
     ]
    }
   ],
   "source": [
    "# 8️⃣ Clear all elements from a set.\n",
    "\n",
    "set_clear = {1,2,3,4,5}\n",
    "print(set_clear)\n",
    "set_clear.clear()\n",
    "print(set_clear)\n",
    "# Your code here"
   ]
  },
  {
   "cell_type": "code",
   "execution_count": 23,
   "metadata": {},
   "outputs": [
    {
     "name": "stdout",
     "output_type": "stream",
     "text": [
      "True\n"
     ]
    }
   ],
   "source": [
    "# 9️⃣ Check if **'apple'** is in the set `{'banana', 'cherry', 'apple'}`.\n",
    "\n",
    "fruits = {'banana', 'cherry', 'apple'}\n",
    "print('apple' in fruits)\n",
    "\n",
    "# Your code here"
   ]
  },
  {
   "cell_type": "code",
   "execution_count": 25,
   "metadata": {},
   "outputs": [
    {
     "name": "stdout",
     "output_type": "stream",
     "text": [
      "{1, 2, 3, 4, 5}\n"
     ]
    }
   ],
   "source": [
    "# 🔟 Perform **union()** of `{1, 2, 3}` and `{3, 4, 5}`.\n",
    "\n",
    "set_1 = {1, 2, 3}\n",
    "set_2 = {3, 4, 5}\n",
    "\n",
    "print(set_1.union(set_2))\n",
    "\n",
    "# Your code here"
   ]
  },
  {
   "cell_type": "code",
   "execution_count": 26,
   "metadata": {},
   "outputs": [
    {
     "name": "stdout",
     "output_type": "stream",
     "text": [
      "{3}\n"
     ]
    }
   ],
   "source": [
    "# 1️⃣1️⃣ Perform **intersection()** of `{1, 2, 3}` and `{3, 4, 5}`.\n",
    "\n",
    "set_1 = {1, 2, 3}\n",
    "set_2 = {3, 4, 5}\n",
    "\n",
    "print(set_1.intersection(set_2))\n",
    "\n",
    "# Your code here"
   ]
  },
  {
   "cell_type": "code",
   "execution_count": 27,
   "metadata": {},
   "outputs": [
    {
     "name": "stdout",
     "output_type": "stream",
     "text": [
      "{1, 2}\n"
     ]
    }
   ],
   "source": [
    "# 1️⃣2️⃣ Perform **difference()** of `{1, 2, 3}` and `{3, 4, 5}`.\n",
    "\n",
    "set_1 = {1, 2, 3}\n",
    "set_2 = {3, 4, 5}\n",
    "\n",
    "print(set_1.difference(set_2))\n",
    "\n",
    "# Your code here"
   ]
  },
  {
   "cell_type": "code",
   "execution_count": 28,
   "metadata": {},
   "outputs": [
    {
     "name": "stdout",
     "output_type": "stream",
     "text": [
      "{1, 2, 4, 5}\n"
     ]
    }
   ],
   "source": [
    "# 1️⃣3️⃣ Perform **symmetric difference()** between `{1, 2, 3}` and `{3, 4, 5}`.\n",
    "\n",
    "set_1 = {1, 2, 3}\n",
    "set_2 = {3, 4, 5}\n",
    "\n",
    "print(set_1.symmetric_difference(set_2))\n",
    "\n",
    "# Your code here"
   ]
  },
  {
   "cell_type": "code",
   "execution_count": 30,
   "metadata": {},
   "outputs": [
    {
     "name": "stdout",
     "output_type": "stream",
     "text": [
      "True\n",
      "False\n"
     ]
    }
   ],
   "source": [
    "# 1️⃣4️⃣ Check if `{1, 2}` is a subset of `{1, 2, 3, 4}`.\n",
    "\n",
    "set_1 = {1, 2}\n",
    "set_2 = {1, 2, 3, 4}\n",
    "\n",
    "print(set_1.issubset(set_2))\n",
    "print(set_2.issubset(set_1))\n",
    "\n",
    "# Your code here"
   ]
  },
  {
   "cell_type": "code",
   "execution_count": 34,
   "metadata": {},
   "outputs": [
    {
     "name": "stdout",
     "output_type": "stream",
     "text": [
      "False\n",
      "True\n"
     ]
    }
   ],
   "source": [
    "# 1️⃣5️⃣ Check if `{1, 2, 3, 4}` is a superset of `{1, 2}`.\n",
    "\n",
    "set_1 = {1, 2}\n",
    "set_2 = {1, 2, 3, 4}\n",
    "\n",
    "print(set_1.issuperset(set_2))\n",
    "print(set_2.issuperset(set_1))\n",
    "\n",
    "# Your code here"
   ]
  },
  {
   "cell_type": "code",
   "execution_count": 1,
   "metadata": {},
   "outputs": [
    {
     "name": "stdout",
     "output_type": "stream",
     "text": [
      "{1, 2, 3, 4, 5}\n"
     ]
    }
   ],
   "source": [
    "# 1️⃣6️⃣ Remove duplicates from a list `[1, 2, 2, 3, 4, 4, 5]` using sets.\n",
    "lst = [1, 2, 2, 3, 4, 4, 5]\n",
    "remove_dup = set (lst)\n",
    "\n",
    "print(remove_dup)\n",
    "\n",
    "\n",
    "# Your code here"
   ]
  },
  {
   "cell_type": "code",
   "execution_count": 2,
   "metadata": {},
   "outputs": [
    {
     "name": "stdout",
     "output_type": "stream",
     "text": [
      "{1, 2, 3, 4}\n"
     ]
    }
   ],
   "source": [
    "# 1️⃣7️⃣ Convert a tuple `(1, 1, 2, 3, 3, 4)` to a set to remove duplicates.\n",
    "\n",
    "tuple = (1, 1, 2, 3, 3, 4)\n",
    "remove_dup = set (tuple)\n",
    "\n",
    "print(remove_dup)\n",
    "\n",
    "# Your code here"
   ]
  },
  {
   "cell_type": "code",
   "execution_count": 3,
   "metadata": {},
   "outputs": [
    {
     "name": "stdout",
     "output_type": "stream",
     "text": [
      "{40, 30}\n"
     ]
    }
   ],
   "source": [
    "# 1️⃣8️⃣ Find common elements between `{10, 20, 30, 40}` and `{30, 40, 50, 60}`.\n",
    "\n",
    "set_1 = {10, 20, 30, 40}\n",
    "set_2 = {30, 40, 50, 60}\n",
    "\n",
    "print(set_1.intersection(set_2))\n",
    "\n",
    "# Your code here"
   ]
  },
  {
   "cell_type": "code",
   "execution_count": 4,
   "metadata": {},
   "outputs": [
    {
     "name": "stdout",
     "output_type": "stream",
     "text": [
      "{10, 20}\n"
     ]
    }
   ],
   "source": [
    "# 1️⃣9️⃣ Find elements that are in the first set but not in the second.\n",
    "\n",
    "set_1 = {10, 20, 30, 40}\n",
    "set_2 = {30, 40, 50, 60}\n",
    "\n",
    "print(set_1.difference(set_2))\n",
    "\n",
    "# Your code here"
   ]
  },
  {
   "cell_type": "code",
   "execution_count": null,
   "metadata": {},
   "outputs": [
    {
     "name": "stdout",
     "output_type": "stream",
     "text": [
      "{40, 10, 50, 20, 60, 30}\n"
     ]
    }
   ],
   "source": [
    "# 2️⃣0️⃣ Write a function that takes two sets and returns their union.\n",
    "set_1 = {10, 20, 30, 40}\n",
    "set_2 = {30, 40, 50, 60}\n",
    "\n",
    "print(set_1.union(set_2))\n",
    "\n",
    "# Your code here"
   ]
  },
  {
   "cell_type": "code",
   "execution_count": null,
   "metadata": {},
   "outputs": [],
   "source": []
  }
 ],
 "metadata": {
  "kernelspec": {
   "display_name": "base",
   "language": "python",
   "name": "python3"
  },
  "language_info": {
   "codemirror_mode": {
    "name": "ipython",
    "version": 3
   },
   "file_extension": ".py",
   "mimetype": "text/x-python",
   "name": "python",
   "nbconvert_exporter": "python",
   "pygments_lexer": "ipython3",
   "version": "3.12.4"
  }
 },
 "nbformat": 4,
 "nbformat_minor": 4
}
