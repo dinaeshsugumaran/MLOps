{
 "cells": [
  {
   "cell_type": "markdown",
   "metadata": {},
   "source": [
    "# Practice Questions on Lists and List Comprehension\n",
    "This notebook contains 20 practice questions on lists and list comprehension, tailored for data science students."
   ]
  },
  {
   "cell_type": "markdown",
   "metadata": {},
   "source": [
    "### Question 1:\n",
    "Create a list of squares of numbers from 1 to 10 using list comprehension."
   ]
  },
  {
   "cell_type": "code",
   "execution_count": 63,
   "metadata": {},
   "outputs": [
    {
     "name": "stdout",
     "output_type": "stream",
     "text": [
      "[1, 4, 9, 16, 25, 36, 49, 64, 81, 100]\n"
     ]
    }
   ],
   "source": [
    "sqrd_num = [x**2 for x in range(1,11)]\n",
    "print(sqrd_num)"
   ]
  },
  {
   "cell_type": "markdown",
   "metadata": {},
   "source": [
    "### Question 2:\n",
    "Filter out even numbers from a given list using list comprehension. Example input: `[1, 2, 3, 4, 5, 6]`"
   ]
  },
  {
   "cell_type": "code",
   "execution_count": 65,
   "metadata": {},
   "outputs": [
    {
     "name": "stdout",
     "output_type": "stream",
     "text": [
      "[2, 4, 6]\n"
     ]
    }
   ],
   "source": [
    "input = [1, 2, 3, 4, 5, 6]\n",
    "filtered = [x for x in [1, 2, 3, 4, 5, 6] if x%2==0]\n",
    "print(filtered)"
   ]
  },
  {
   "cell_type": "markdown",
   "metadata": {},
   "source": [
    "### Question 3:\n",
    "Create a list of tuples containing numbers and their cubes for numbers from 1 to 7."
   ]
  },
  {
   "cell_type": "code",
   "execution_count": null,
   "metadata": {},
   "outputs": [],
   "source": []
  },
  {
   "cell_type": "markdown",
   "metadata": {},
   "source": [
    "### Question 4:\n",
    "From the list `['Data', 'Science', 'Machine', 'Learning']`, create a new list with only words containing more than 5 letters."
   ]
  },
  {
   "cell_type": "code",
   "execution_count": 67,
   "metadata": {},
   "outputs": [
    {
     "name": "stdout",
     "output_type": "stream",
     "text": [
      "['Science', 'Machine', 'Learning']\n"
     ]
    }
   ],
   "source": [
    "input = ['Data', 'Science', 'Machine', 'Learning']\n",
    "output = [x for x in input if len(x)>5]\n",
    "print(output)"
   ]
  },
  {
   "cell_type": "markdown",
   "metadata": {},
   "source": [
    "### Question 5:\n",
    "Generate a list of all numbers divisible by 3 between 1 and 50 using list comprehension."
   ]
  },
  {
   "cell_type": "code",
   "execution_count": 71,
   "metadata": {},
   "outputs": [
    {
     "name": "stdout",
     "output_type": "stream",
     "text": [
      "[3, 6, 9, 12, 15, 18, 21, 24, 27, 30, 33, 36, 39, 42, 45, 48]\n"
     ]
    }
   ],
   "source": [
    "output = [x for x in range(1,51) if x%3 == 0]\n",
    "print(output)"
   ]
  },
  {
   "cell_type": "markdown",
   "metadata": {},
   "source": [
    "### Question 6:\n",
    "Given a list of names, create a new list of names that start with the letter 'A'."
   ]
  },
  {
   "cell_type": "code",
   "execution_count": 74,
   "metadata": {},
   "outputs": [
    {
     "name": "stdout",
     "output_type": "stream",
     "text": [
      "['Alice', 'Aaron']\n"
     ]
    }
   ],
   "source": [
    "names = [\n",
    "    \"Alice\", \"Bob\", \"Charlie\", \"Diana\", \"Ethan\", \"Fiona\", \"George\", \"Hannah\", \n",
    "    \"Isaac\", \"Jenna\", \"Kevin\", \"Lila\", \"Mason\", \"Nora\", \"Oliver\", \"Paige\", \n",
    "    \"Quinn\", \"Riley\", \"Sophia\", \"Tyler\", \"Uma\", \"Victor\", \"Wendy\", \"Xander\", \n",
    "    \"Yara\", \"Zane\", \"Aaron\", \"Bella\", \"Carter\", \"Delilah\", \"Elliot\", \"Faith\", \n",
    "    \"Gavin\", \"Hailey\", \"Ian\", \"Julia\", \"Kyle\", \"Liam\", \"Mia\", \"Natalie\", \n",
    "    \"Owen\", \"Penelope\", \"Quincy\", \"Ruby\", \"Samuel\", \"Tessa\", \"Uriah\", \n",
    "    \"Vanessa\", \"Willow\", \"Xavier\", \"Yvonne\", \"Zachary\"]\n",
    "\n",
    "starts_with_A = [x for x in names if x[0]=='A']\n",
    "print(starts_with_A)"
   ]
  },
  {
   "cell_type": "markdown",
   "metadata": {},
   "source": [
    "### Question 7:\n",
    "Convert a list of strings `['123', '456', '789']` into a list of integers."
   ]
  },
  {
   "cell_type": "code",
   "execution_count": 100,
   "metadata": {},
   "outputs": [
    {
     "name": "stdout",
     "output_type": "stream",
     "text": [
      "['1', '2', '3', '4', '5', '6', '7', '8', '9']\n"
     ]
    }
   ],
   "source": [
    "input = ['123', '456', '789']\n",
    "output =  [x for x in input for x in x]\n",
    "print(output)"
   ]
  },
  {
   "cell_type": "markdown",
   "metadata": {},
   "source": [
    "### Question 8:\n",
    "Flatten a 2D list into a 1D list. Example input: `[[1, 2], [3, 4], [5, 6]]`"
   ]
  },
  {
   "cell_type": "code",
   "execution_count": 91,
   "metadata": {},
   "outputs": [
    {
     "name": "stdout",
     "output_type": "stream",
     "text": [
      "[1, 2, 3, 4, 5, 6]\n"
     ]
    }
   ],
   "source": [
    "input = [[1, 2], [3, 4], [5, 6]]\n",
    "output = [x for x in input for x in x]\n",
    "print(output)"
   ]
  },
  {
   "cell_type": "markdown",
   "metadata": {},
   "source": [
    "### Question 9:\n",
    "Create a list of unique characters from the string `'data science'` using list comprehension."
   ]
  },
  {
   "cell_type": "code",
   "execution_count": 105,
   "metadata": {},
   "outputs": [
    {
     "name": "stdout",
     "output_type": "stream",
     "text": [
      "['d', 'e', ' ', 's', 't', 'n', 'i', 'c', 'a']\n"
     ]
    }
   ],
   "source": [
    "input = 'data science'\n",
    "output = str([x for x in set(input)])\n",
    "print(output)"
   ]
  },
  {
   "cell_type": "markdown",
   "metadata": {},
   "source": [
    "### Question 10:\n",
    "Generate a list of 10 random numbers between 1 and 100 and filter out numbers greater than 50."
   ]
  },
  {
   "cell_type": "code",
   "execution_count": 145,
   "metadata": {},
   "outputs": [
    {
     "name": "stdout",
     "output_type": "stream",
     "text": [
      "[96, 77, 99, 54, 70, 83, 90, 87, 55, 72]\n"
     ]
    }
   ],
   "source": [
    "import random\n",
    "output = [x for x in random.sample(range(1,101),20) if x>50]\n",
    "print(output)\n"
   ]
  },
  {
   "cell_type": "markdown",
   "metadata": {},
   "source": [
    "### Question 11:\n",
    "Create a list of booleans that indicate if each number in the range 1-10 is even or odd."
   ]
  },
  {
   "cell_type": "code",
   "execution_count": 152,
   "metadata": {},
   "outputs": [
    {
     "name": "stdout",
     "output_type": "stream",
     "text": [
      "[0, 1, 0, 1, 0, 1, 0, 1, 0, 1]\n"
     ]
    }
   ],
   "source": [
    "output = [ 1 if x%2==0 else 0 for x in range(1,11)]\n",
    "print(output)"
   ]
  },
  {
   "cell_type": "markdown",
   "metadata": {},
   "source": [
    "### Question 12:\n",
    "Extract the first letter of each word from the list `['Data', 'Science', 'is', 'fun']`."
   ]
  },
  {
   "cell_type": "code",
   "execution_count": 149,
   "metadata": {},
   "outputs": [
    {
     "name": "stdout",
     "output_type": "stream",
     "text": [
      "['D', 'S', 'i', 'f']\n"
     ]
    }
   ],
   "source": [
    "input = ['Data', 'Science', 'is', 'fun']\n",
    "output =  [x[0] for x in input]\n",
    "print(output)"
   ]
  },
  {
   "cell_type": "markdown",
   "metadata": {},
   "source": [
    "### Question 13:\n",
    "Using list comprehension, generate a list of numbers that are squares of even numbers from 1 to 20."
   ]
  },
  {
   "cell_type": "code",
   "execution_count": 151,
   "metadata": {},
   "outputs": [
    {
     "name": "stdout",
     "output_type": "stream",
     "text": [
      "[4, 16, 36, 64, 100, 144, 196, 256, 324, 400]\n"
     ]
    }
   ],
   "source": [
    "output = [x**2 for x in range(1,21) if x%2==0]\n",
    "print(output)"
   ]
  },
  {
   "cell_type": "markdown",
   "metadata": {},
   "source": [
    "### Question 14:\n",
    "Given a list of tuples `[(1, 2), (3, 4), (5, 6)]`, create a list of their sums using list comprehension."
   ]
  },
  {
   "cell_type": "code",
   "execution_count": null,
   "metadata": {},
   "outputs": [],
   "source": []
  },
  {
   "cell_type": "markdown",
   "metadata": {},
   "source": [
    "### Question 15:\n",
    "Create a list of all possible pairs (tuples) from two lists, `[1, 2]` and `['a', 'b']`."
   ]
  },
  {
   "cell_type": "code",
   "execution_count": null,
   "metadata": {},
   "outputs": [],
   "source": []
  },
  {
   "cell_type": "markdown",
   "metadata": {},
   "source": [
    "### Question 16:\n",
    "Write a list comprehension to replace negative numbers in a list with 0. Example input: `[-1, 2, -3, 4]`."
   ]
  },
  {
   "cell_type": "code",
   "execution_count": 154,
   "metadata": {},
   "outputs": [
    {
     "name": "stdout",
     "output_type": "stream",
     "text": [
      "[0, 2, 0, 4]\n"
     ]
    }
   ],
   "source": [
    "output = [ 0 if x<0 else x for x in [-1, 2, -3, 4]]\n",
    "print(output)"
   ]
  },
  {
   "cell_type": "markdown",
   "metadata": {},
   "source": [
    "### Question 17:\n",
    "Count the occurrences of each element in the list `['apple', 'banana', 'apple', 'orange', 'banana']`."
   ]
  },
  {
   "cell_type": "code",
   "execution_count": null,
   "metadata": {},
   "outputs": [],
   "source": []
  },
  {
   "cell_type": "markdown",
   "metadata": {},
   "source": [
    "### Question 18:\n",
    "Generate a list of Fibonacci numbers up to 10 elements using a list comprehension (Hint: Use a loop to build the sequence)."
   ]
  },
  {
   "cell_type": "code",
   "execution_count": null,
   "metadata": {},
   "outputs": [],
   "source": []
  },
  {
   "cell_type": "markdown",
   "metadata": {},
   "source": [
    "### Question 19:\n",
    "Reverse each word in the list `['data', 'science', 'rocks']`."
   ]
  },
  {
   "cell_type": "code",
   "execution_count": 162,
   "metadata": {},
   "outputs": [
    {
     "name": "stdout",
     "output_type": "stream",
     "text": [
      "['rocks', 'science', 'data']\n"
     ]
    }
   ],
   "source": [
    "input = ['data', 'science', 'rocks']\n",
    "output = input[::-1]\n",
    "print(output)"
   ]
  },
  {
   "cell_type": "markdown",
   "metadata": {},
   "source": [
    "### Question 20:\n",
    "Filter out all strings with length less than 4 from the list `['AI', 'data', 'science', 'ML', 'learning']`."
   ]
  },
  {
   "cell_type": "code",
   "execution_count": 163,
   "metadata": {},
   "outputs": [
    {
     "name": "stdout",
     "output_type": "stream",
     "text": [
      "['science', 'learning']\n"
     ]
    }
   ],
   "source": [
    "input = ['AI', 'data', 'science', 'ML', 'learning']\n",
    "output = [x for x in input if len(x)>4]\n",
    "print(output)"
   ]
  },
  {
   "cell_type": "code",
   "execution_count": null,
   "metadata": {},
   "outputs": [],
   "source": []
  }
 ],
 "metadata": {
  "kernelspec": {
   "display_name": "Python 3",
   "language": "python",
   "name": "python3"
  },
  "language_info": {
   "codemirror_mode": {
    "name": "ipython",
    "version": 3
   },
   "file_extension": ".py",
   "mimetype": "text/x-python",
   "name": "python",
   "nbconvert_exporter": "python",
   "pygments_lexer": "ipython3",
   "version": "3.8.5"
  }
 },
 "nbformat": 4,
 "nbformat_minor": 4
}
