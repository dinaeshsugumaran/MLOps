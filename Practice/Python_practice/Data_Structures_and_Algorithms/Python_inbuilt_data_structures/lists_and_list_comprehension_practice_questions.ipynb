{
  "cells": [
    {
      "cell_type": "markdown",
      "metadata": {},
      "source": [
        "# Python Practice: Lists and List Comprehensions\n",
        "This notebook contains exercises to practice working with lists and list comprehensions in Python."
      ]
    },
    {
      "cell_type": "markdown",
      "metadata": {},
      "source": [
        "## Section 1: Basic List Operations"
      ]
    },
    {
      "cell_type": "code",
      "execution_count": null,
      "metadata": {},
      "outputs": [],
      "source": [
        "# 1. Create a list of the first 10 natural numbers and print the list.\n",
        "natural_numbers = []  # Your code here\n",
        "print(natural_numbers)"
      ]
    },
    {
      "cell_type": "code",
      "execution_count": null,
      "metadata": {},
      "outputs": [],
      "source": [
        "# 2. Add, remove, and replace elements in a list.\n",
        "my_list = [1, 2, 3, 4, 5, 6, 7, 8, 9, 10]\n",
        "# Add the number 11 to the list\n",
        "# Remove the number 5 from the list\n",
        "# Replace the number 3 with 33\n",
        "print(my_list)"
      ]
    },
    {
      "cell_type": "markdown",
      "metadata": {},
      "source": [
        "## Section 2: List Comprehensions - Basics"
      ]
    },
    {
      "cell_type": "code",
      "execution_count": null,
      "metadata": {},
      "outputs": [],
      "source": [
        "# 3. Generate a list of squares of numbers from 1 to 10 using a list comprehension.\n",
        "squares = []  # Your code here\n",
        "print(squares)"
      ]
    },
    {
      "cell_type": "code",
      "execution_count": null,
      "metadata": {},
      "outputs": [],
      "source": [
        "# 4. Create a list of even numbers between 1 and 20 using a list comprehension.\n",
        "evens = []  # Your code here\n",
        "print(evens)"
      ]
    },
    {
      "cell_type": "code",
      "execution_count": null,
      "metadata": {},
      "outputs": [],
      "source": [
        "# 5. Write a list comprehension to extract all vowels from a given string.\n",
        "string = \"List comprehensions are powerful!\"\n",
        "vowels = []  # Your code here\n",
        "print(vowels)"
      ]
    },
    {
      "cell_type": "markdown",
      "metadata": {},
      "source": [
        "## Section 3: Conditionals in List Comprehensions"
      ]
    },
    {
      "cell_type": "code",
      "execution_count": null,
      "metadata": {},
      "outputs": [],
      "source": [
        "# 6. Generate a list of numbers from 1 to 50 that are divisible by both 3 and 5 using a list comprehension.\n",
        "divisible_by_3_and_5 = []  # Your code here\n",
        "print(divisible_by_3_and_5)"
      ]
    },
    {
      "cell_type": "code",
      "execution_count": null,
      "metadata": {},
      "outputs": [],
      "source": [
        "# 7. Create a list of numbers from 1 to 10, replacing odd numbers with the string \"Odd\" and even numbers with the string \"Even\".\n",
        "odd_even_list = []  # Your code here\n",
        "print(odd_even_list)"
      ]
    },
    {
      "cell_type": "markdown",
      "metadata": {},
      "source": [
        "## Section 4: Advanced List Comprehensions"
      ]
    },
    {
      "cell_type": "code",
      "execution_count": null,
      "metadata": {},
      "outputs": [],
      "source": [
        "# 8. Write a list comprehension to flatten a 2D list.\n",
        "two_d_list = [[1, 2, 3], [4, 5], [6, 7, 8]]\n",
        "flattened_list = []  # Your code here\n",
        "print(flattened_list)"
      ]
    },
    {
      "cell_type": "code",
      "execution_count": null,
      "metadata": {},
      "outputs": [],
      "source": [
        "# 9. Create a list of all prime numbers between 1 and 100 using a list comprehension.\n",
        "primes = []  # Your code here\n",
        "print(primes)"
      ]
    },
    {
      "cell_type": "markdown",
      "metadata": {},
      "source": [
        "## Section 5: Creative Challenges"
      ]
    },
    {
      "cell_type": "code",
      "execution_count": null,
      "metadata": {},
      "outputs": [],
      "source": [
        "# 10. Write a list comprehension to generate a list of strings representing a multiplication table for 1 to 5.\n",
        "# Example output: ['1x1=1', '1x2=2', ..., '5x5=25']\n",
        "multiplication_table = []  # Your code here\n",
        "print(multiplication_table)"
      ]
    },
    {
      "cell_type": "markdown",
      "metadata": {},
      "source": [
        "## Section 6: Working with Strings in Lists"
      ]
    },
    {
      "cell_type": "code",
      "execution_count": null,
      "metadata": {},
      "outputs": [],
      "source": [
        "# 11. Write a function that takes a list of words and returns a new list containing the lengths of those words.\n",
        "def word_lengths(words):\n",
        "    return [len(word) for word in words]\n",
        "# Example usage\n",
        "print(word_lengths(['hello', 'world', 'python']))"
      ]
    },
    {
      "cell_type": "code",
      "execution_count": null,
      "metadata": {},
      "outputs": [],
      "source": [
        "# 12. Write a list comprehension that removes all elements from a list that are not divisible by 4.\n",
        "numbers = [2, 4, 5, 8, 10, 12]\n",
        "divisible_by_4 = [num for num in numbers if num % 4 == 0]\n",
        "print(divisible_by_4)"
      ]
    },
    {
      "cell_type": "markdown",
      "metadata": {},
      "source": [
        "## Section 7: List Operations with Functions"
      ]
    },
    {
      "cell_type": "code",
      "execution_count": null,
      "metadata": {},
      "outputs": [],
      "source": [
        "# 13. Create a function that returns a list of all numbers that are greater than the average of the numbers in the list.\n",
        "def greater_than_average(numbers):\n",
        "    average = sum(numbers) / len(numbers)\n",
        "    return [num for num in numbers if num > average]\n",
        "# Example usage\n",
        "print(greater_than_average([1, 2, 3, 4, 5, 6]))"
      ]
    },
    {
      "cell_type": "code",
      "execution_count": null,
      "metadata": {},
      "outputs": [],
      "source": [
        "# 14. Write a function to return a list of all elements in a list that are repeated more than once.\n",
        "from collections import Counter\n",
        "def repeated_elements(numbers):\n",
        "    count = Counter(numbers)\n",
        "    return [key for key, value in count.items() if value > 1]\n",
        "# Example usage\n",
        "print(repeated_elements([1, 2, 3, 1, 2, 4]))"
      ]
    },
    {
      "cell_type": "markdown",
      "metadata": {},
      "source": [
        "## Section 8: Advanced List Challenges"
      ]
    },
    {
      "cell_type": "code",
      "execution_count": null,
      "metadata": {},
      "outputs": [],
      "source": [
        "# 15. Write a function that takes a list of numbers and returns a list of all numbers raised to the power of 2, but only if they are divisible by 3.\n",
        "def square_if_divisible_by_3(numbers):\n",
        "    return [num ** 2 for num in numbers if num % 3 == 0]\n",
        "# Example usage\n",
        "print(square_if_divisible_by_3([1, 2, 3, 4, 5, 6]))"
      ]
    },
    {
      "cell_type": "code",
      "execution_count": null,
      "metadata": {},
      "outputs": [],
      "source": [
        "# 16. Create a list of lists representing the multiplication tables for numbers 1 through 5.\n",
        "multiplication_tables = [[x * y for y in range(1, 11)] for x in range(1, 6)]\n",
        "print(multiplication_tables)"
      ]
    },
    {
      "cell_type": "markdown",
      "metadata": {},
      "source": [
        "## Section 9: Lists and Dictionaries"
      ]
    },
    {
      "cell_type": "code",
      "execution_count": null,
      "metadata": {},
      "outputs": [],
      "source": [
        "# 17. Create a dictionary where the keys are numbers from 1 to 5 and the values are lists of squares of numbers from 1 to 5.\n",
        "squares_dict = {i: [x**2 for x in range(1, 6)] for i in range(1, 6)}\n",
        "print(squares_dict)"
      ]
    },
    {
      "cell_type": "code",
      "execution_count": null,
      "metadata": {},
      "outputs": [],
      "source": [
        "# 18. Write a function that takes a dictionary where the values are lists of numbers and returns a new dictionary with the sum of the numbers in each list.\n",
        "def sum_dict_values(dictionary):\n",
        "    return {key: sum(value) for key, value in dictionary.items()}\n",
        "# Example usage\n",
        "print(sum_dict_values({'a': [1, 2, 3], 'b': [4, 5, 6]}))"
      ]
    }
  ],
  "metadata": {
    "kernelspec": {
      "display_name": "Python 3",
      "language": "python",
      "name": "python3"
    },
    "language_info": {
      "codemirror_mode": {
        "name": "ipython",
        "version": 3
      },
      "file_extension": ".py",
      "mimetype": "text/x-python",
      "name": "python",
      "nbconvert_exporter": "python",
      "pygments_lexer": "ipython3",
      "version": "3.8.5"
    }
  },
  "nbformat": 4,
  "nbformat_minor": 4
}
